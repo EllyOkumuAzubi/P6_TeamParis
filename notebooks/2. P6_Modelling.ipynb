{
 "cells": [
  {
   "cell_type": "code",
   "execution_count": null,
   "metadata": {
    "id": "g6vKIcfr9oCK"
   },
   "outputs": [],
   "source": []
  },
  {
   "cell_type": "code",
   "execution_count": 3,
   "metadata": {
    "colab": {
     "base_uri": "https://localhost:8080/"
    },
    "id": "oK77raPS98Sw",
    "outputId": "e8c6d43a-e5b2-44ba-941d-73a6da14bd84"
   },
   "outputs": [],
   "source": [
    "# # Mount drive\n",
    "# from google.colab import drive\n",
    "# drive.mount('/content/drive')"
   ]
  },
  {
   "cell_type": "code",
   "execution_count": 4,
   "metadata": {
    "id": "AXO_Jmqt988H"
   },
   "outputs": [],
   "source": [
    "import pandas as pd\n",
    "import numpy as np\n",
    "\n",
    "# Visualizing libraries\n",
    "from matplotlib.pyplot import matplotlib as plt\n",
    "import seaborn as sns\n",
    "import plotly.express as px"
   ]
  },
  {
   "cell_type": "code",
   "execution_count": 5,
   "metadata": {
    "id": "8LC6im_M_VIc"
   },
   "outputs": [],
   "source": [
    "# # Load the dataset both train and test\n",
    "# train = pd.read_csv('/content/drive/MyDrive/P6/Paitients_Files_Train.csv')\n",
    "# eval = pd.read_csv('/content/drive/MyDrive/P6/Paitients_Files_Test.csv')"
   ]
  },
  {
   "cell_type": "code",
   "execution_count": 6,
   "metadata": {
    "id": "09_-_Ky7aJKy"
   },
   "outputs": [],
   "source": [
    "# While reading in local machine\n",
    "train=pd.read_csv('C:\\\\Users\\\\user\\\\Downloads\\\\P6\\\\Paitients_Files_Train.csv')\n",
    "eval = pd.read_csv('C:\\\\Users\\\\user\\\\Downloads\\\\P6\\\\Paitients_Files_Test.csv')"
   ]
  },
  {
   "cell_type": "code",
   "execution_count": null,
   "metadata": {
    "id": "Y_bk8ua3aJKz"
   },
   "outputs": [],
   "source": []
  },
  {
   "cell_type": "code",
   "execution_count": 7,
   "metadata": {
    "colab": {
     "base_uri": "https://localhost:8080/"
    },
    "id": "q1v5OLBTaJK0",
    "outputId": "30749043-f5d0-46f6-8926-f2460bffa8ee"
   },
   "outputs": [
    {
     "name": "stdout",
     "output_type": "stream",
     "text": [
      "<class 'pandas.core.frame.DataFrame'>\n",
      "RangeIndex: 599 entries, 0 to 598\n",
      "Data columns (total 11 columns):\n",
      " #   Column     Non-Null Count  Dtype  \n",
      "---  ------     --------------  -----  \n",
      " 0   ID         599 non-null    object \n",
      " 1   PRG        599 non-null    int64  \n",
      " 2   PL         599 non-null    int64  \n",
      " 3   PR         599 non-null    int64  \n",
      " 4   SK         599 non-null    int64  \n",
      " 5   TS         599 non-null    int64  \n",
      " 6   M11        599 non-null    float64\n",
      " 7   BD2        599 non-null    float64\n",
      " 8   Age        599 non-null    int64  \n",
      " 9   Insurance  599 non-null    int64  \n",
      " 10  Sepssis    599 non-null    object \n",
      "dtypes: float64(2), int64(7), object(2)\n",
      "memory usage: 51.6+ KB\n"
     ]
    }
   ],
   "source": [
    "train.info()"
   ]
  },
  {
   "cell_type": "markdown",
   "metadata": {
    "id": "0PdanoWf_RPH"
   },
   "source": [
    "# BASIC EDA"
   ]
  },
  {
   "cell_type": "code",
   "execution_count": 8,
   "metadata": {
    "colab": {
     "base_uri": "https://localhost:8080/",
     "height": 206
    },
    "id": "tSJIkB_x-Ooy",
    "outputId": "69d3bba9-e015-4ffa-bc9f-858e8c130dd7"
   },
   "outputs": [
    {
     "data": {
      "text/html": [
       "<div>\n",
       "<style scoped>\n",
       "    .dataframe tbody tr th:only-of-type {\n",
       "        vertical-align: middle;\n",
       "    }\n",
       "\n",
       "    .dataframe tbody tr th {\n",
       "        vertical-align: top;\n",
       "    }\n",
       "\n",
       "    .dataframe thead th {\n",
       "        text-align: right;\n",
       "    }\n",
       "</style>\n",
       "<table border=\"1\" class=\"dataframe\">\n",
       "  <thead>\n",
       "    <tr style=\"text-align: right;\">\n",
       "      <th></th>\n",
       "      <th>ID</th>\n",
       "      <th>PRG</th>\n",
       "      <th>PL</th>\n",
       "      <th>PR</th>\n",
       "      <th>SK</th>\n",
       "      <th>TS</th>\n",
       "      <th>M11</th>\n",
       "      <th>BD2</th>\n",
       "      <th>Age</th>\n",
       "      <th>Insurance</th>\n",
       "      <th>Sepssis</th>\n",
       "    </tr>\n",
       "  </thead>\n",
       "  <tbody>\n",
       "    <tr>\n",
       "      <th>0</th>\n",
       "      <td>ICU200010</td>\n",
       "      <td>6</td>\n",
       "      <td>148</td>\n",
       "      <td>72</td>\n",
       "      <td>35</td>\n",
       "      <td>0</td>\n",
       "      <td>33.6</td>\n",
       "      <td>0.627</td>\n",
       "      <td>50</td>\n",
       "      <td>0</td>\n",
       "      <td>Positive</td>\n",
       "    </tr>\n",
       "    <tr>\n",
       "      <th>1</th>\n",
       "      <td>ICU200011</td>\n",
       "      <td>1</td>\n",
       "      <td>85</td>\n",
       "      <td>66</td>\n",
       "      <td>29</td>\n",
       "      <td>0</td>\n",
       "      <td>26.6</td>\n",
       "      <td>0.351</td>\n",
       "      <td>31</td>\n",
       "      <td>0</td>\n",
       "      <td>Negative</td>\n",
       "    </tr>\n",
       "    <tr>\n",
       "      <th>2</th>\n",
       "      <td>ICU200012</td>\n",
       "      <td>8</td>\n",
       "      <td>183</td>\n",
       "      <td>64</td>\n",
       "      <td>0</td>\n",
       "      <td>0</td>\n",
       "      <td>23.3</td>\n",
       "      <td>0.672</td>\n",
       "      <td>32</td>\n",
       "      <td>1</td>\n",
       "      <td>Positive</td>\n",
       "    </tr>\n",
       "    <tr>\n",
       "      <th>3</th>\n",
       "      <td>ICU200013</td>\n",
       "      <td>1</td>\n",
       "      <td>89</td>\n",
       "      <td>66</td>\n",
       "      <td>23</td>\n",
       "      <td>94</td>\n",
       "      <td>28.1</td>\n",
       "      <td>0.167</td>\n",
       "      <td>21</td>\n",
       "      <td>1</td>\n",
       "      <td>Negative</td>\n",
       "    </tr>\n",
       "    <tr>\n",
       "      <th>4</th>\n",
       "      <td>ICU200014</td>\n",
       "      <td>0</td>\n",
       "      <td>137</td>\n",
       "      <td>40</td>\n",
       "      <td>35</td>\n",
       "      <td>168</td>\n",
       "      <td>43.1</td>\n",
       "      <td>2.288</td>\n",
       "      <td>33</td>\n",
       "      <td>1</td>\n",
       "      <td>Positive</td>\n",
       "    </tr>\n",
       "  </tbody>\n",
       "</table>\n",
       "</div>"
      ],
      "text/plain": [
       "          ID  PRG   PL  PR  SK   TS   M11    BD2  Age  Insurance   Sepssis\n",
       "0  ICU200010    6  148  72  35    0  33.6  0.627   50          0  Positive\n",
       "1  ICU200011    1   85  66  29    0  26.6  0.351   31          0  Negative\n",
       "2  ICU200012    8  183  64   0    0  23.3  0.672   32          1  Positive\n",
       "3  ICU200013    1   89  66  23   94  28.1  0.167   21          1  Negative\n",
       "4  ICU200014    0  137  40  35  168  43.1  2.288   33          1  Positive"
      ]
     },
     "execution_count": 8,
     "metadata": {},
     "output_type": "execute_result"
    }
   ],
   "source": [
    "# Read into our datasets\n",
    "train.head()"
   ]
  },
  {
   "cell_type": "code",
   "execution_count": 9,
   "metadata": {
    "colab": {
     "base_uri": "https://localhost:8080/",
     "height": 206
    },
    "id": "in6g3HuPAi4s",
    "outputId": "65c45579-b036-486f-e048-709213ea67ed"
   },
   "outputs": [
    {
     "data": {
      "text/html": [
       "<div>\n",
       "<style scoped>\n",
       "    .dataframe tbody tr th:only-of-type {\n",
       "        vertical-align: middle;\n",
       "    }\n",
       "\n",
       "    .dataframe tbody tr th {\n",
       "        vertical-align: top;\n",
       "    }\n",
       "\n",
       "    .dataframe thead th {\n",
       "        text-align: right;\n",
       "    }\n",
       "</style>\n",
       "<table border=\"1\" class=\"dataframe\">\n",
       "  <thead>\n",
       "    <tr style=\"text-align: right;\">\n",
       "      <th></th>\n",
       "      <th>ID</th>\n",
       "      <th>PRG</th>\n",
       "      <th>PL</th>\n",
       "      <th>PR</th>\n",
       "      <th>SK</th>\n",
       "      <th>TS</th>\n",
       "      <th>M11</th>\n",
       "      <th>BD2</th>\n",
       "      <th>Age</th>\n",
       "      <th>Insurance</th>\n",
       "    </tr>\n",
       "  </thead>\n",
       "  <tbody>\n",
       "    <tr>\n",
       "      <th>0</th>\n",
       "      <td>ICU200609</td>\n",
       "      <td>1</td>\n",
       "      <td>109</td>\n",
       "      <td>38</td>\n",
       "      <td>18</td>\n",
       "      <td>120</td>\n",
       "      <td>23.1</td>\n",
       "      <td>0.407</td>\n",
       "      <td>26</td>\n",
       "      <td>1</td>\n",
       "    </tr>\n",
       "    <tr>\n",
       "      <th>1</th>\n",
       "      <td>ICU200610</td>\n",
       "      <td>1</td>\n",
       "      <td>108</td>\n",
       "      <td>88</td>\n",
       "      <td>19</td>\n",
       "      <td>0</td>\n",
       "      <td>27.1</td>\n",
       "      <td>0.400</td>\n",
       "      <td>24</td>\n",
       "      <td>1</td>\n",
       "    </tr>\n",
       "    <tr>\n",
       "      <th>2</th>\n",
       "      <td>ICU200611</td>\n",
       "      <td>6</td>\n",
       "      <td>96</td>\n",
       "      <td>0</td>\n",
       "      <td>0</td>\n",
       "      <td>0</td>\n",
       "      <td>23.7</td>\n",
       "      <td>0.190</td>\n",
       "      <td>28</td>\n",
       "      <td>1</td>\n",
       "    </tr>\n",
       "    <tr>\n",
       "      <th>3</th>\n",
       "      <td>ICU200612</td>\n",
       "      <td>1</td>\n",
       "      <td>124</td>\n",
       "      <td>74</td>\n",
       "      <td>36</td>\n",
       "      <td>0</td>\n",
       "      <td>27.8</td>\n",
       "      <td>0.100</td>\n",
       "      <td>30</td>\n",
       "      <td>1</td>\n",
       "    </tr>\n",
       "    <tr>\n",
       "      <th>4</th>\n",
       "      <td>ICU200613</td>\n",
       "      <td>7</td>\n",
       "      <td>150</td>\n",
       "      <td>78</td>\n",
       "      <td>29</td>\n",
       "      <td>126</td>\n",
       "      <td>35.2</td>\n",
       "      <td>0.692</td>\n",
       "      <td>54</td>\n",
       "      <td>0</td>\n",
       "    </tr>\n",
       "  </tbody>\n",
       "</table>\n",
       "</div>"
      ],
      "text/plain": [
       "          ID  PRG   PL  PR  SK   TS   M11    BD2  Age  Insurance\n",
       "0  ICU200609    1  109  38  18  120  23.1  0.407   26          1\n",
       "1  ICU200610    1  108  88  19    0  27.1  0.400   24          1\n",
       "2  ICU200611    6   96   0   0    0  23.7  0.190   28          1\n",
       "3  ICU200612    1  124  74  36    0  27.8  0.100   30          1\n",
       "4  ICU200613    7  150  78  29  126  35.2  0.692   54          0"
      ]
     },
     "execution_count": 9,
     "metadata": {},
     "output_type": "execute_result"
    }
   ],
   "source": [
    "eval.head()"
   ]
  },
  {
   "cell_type": "markdown",
   "metadata": {
    "id": "Cg_DWrKpB8x9"
   },
   "source": [
    "**Renaming the columns for better understanding**"
   ]
  },
  {
   "cell_type": "code",
   "execution_count": 10,
   "metadata": {
    "id": "g4oKV_KNCByt"
   },
   "outputs": [],
   "source": [
    "col_name_1 = {\n",
    "    'ID' : 'ID' ,\n",
    "    'PRG' : 'PlasmaGlucose',\n",
    "    'PL' : 'Blood.W.Result-1',\n",
    "    'PR' : 'BloodPressure',\n",
    "    'SK' : 'Blood.W.Result-2',\n",
    "    'TS' : 'Blood.W.Result-3',\n",
    "    'M11' : 'BMI',\n",
    "    'BD2' : 'Blood.W.Result-4',\n",
    "    'Age' : 'Age',\n",
    "    'Insurance' : 'Insurance'\n",
    "}\n",
    "\n",
    "train.rename(columns=col_name_1, inplace= True)"
   ]
  },
  {
   "cell_type": "code",
   "execution_count": 11,
   "metadata": {
    "colab": {
     "base_uri": "https://localhost:8080/",
     "height": 81
    },
    "id": "rrDtIQWVCB3O",
    "outputId": "b948b509-8a24-4457-e627-ca5373319455"
   },
   "outputs": [
    {
     "data": {
      "text/html": [
       "<div>\n",
       "<style scoped>\n",
       "    .dataframe tbody tr th:only-of-type {\n",
       "        vertical-align: middle;\n",
       "    }\n",
       "\n",
       "    .dataframe tbody tr th {\n",
       "        vertical-align: top;\n",
       "    }\n",
       "\n",
       "    .dataframe thead th {\n",
       "        text-align: right;\n",
       "    }\n",
       "</style>\n",
       "<table border=\"1\" class=\"dataframe\">\n",
       "  <thead>\n",
       "    <tr style=\"text-align: right;\">\n",
       "      <th></th>\n",
       "      <th>ID</th>\n",
       "      <th>PlasmaGlucose</th>\n",
       "      <th>Blood.W.Result-1</th>\n",
       "      <th>BloodPressure</th>\n",
       "      <th>Blood.W.Result-2</th>\n",
       "      <th>Blood.W.Result-3</th>\n",
       "      <th>BMI</th>\n",
       "      <th>Blood.W.Result-4</th>\n",
       "      <th>Age</th>\n",
       "      <th>Insurance</th>\n",
       "      <th>Sepssis</th>\n",
       "    </tr>\n",
       "  </thead>\n",
       "  <tbody>\n",
       "    <tr>\n",
       "      <th>0</th>\n",
       "      <td>ICU200010</td>\n",
       "      <td>6</td>\n",
       "      <td>148</td>\n",
       "      <td>72</td>\n",
       "      <td>35</td>\n",
       "      <td>0</td>\n",
       "      <td>33.6</td>\n",
       "      <td>0.627</td>\n",
       "      <td>50</td>\n",
       "      <td>0</td>\n",
       "      <td>Positive</td>\n",
       "    </tr>\n",
       "  </tbody>\n",
       "</table>\n",
       "</div>"
      ],
      "text/plain": [
       "          ID  PlasmaGlucose  Blood.W.Result-1  BloodPressure  \\\n",
       "0  ICU200010              6               148             72   \n",
       "\n",
       "   Blood.W.Result-2  Blood.W.Result-3   BMI  Blood.W.Result-4  Age  Insurance  \\\n",
       "0                35                 0  33.6             0.627   50          0   \n",
       "\n",
       "    Sepssis  \n",
       "0  Positive  "
      ]
     },
     "execution_count": 11,
     "metadata": {},
     "output_type": "execute_result"
    }
   ],
   "source": [
    "train.head(1)"
   ]
  },
  {
   "cell_type": "code",
   "execution_count": 12,
   "metadata": {
    "id": "Z52-POSECCB1"
   },
   "outputs": [],
   "source": [
    "eval.rename(columns=col_name_1, inplace= True)"
   ]
  },
  {
   "cell_type": "code",
   "execution_count": 13,
   "metadata": {
    "colab": {
     "base_uri": "https://localhost:8080/",
     "height": 81
    },
    "id": "3eP4iGODEOTJ",
    "outputId": "33747090-c16e-40f4-9ec2-4063ca62101b"
   },
   "outputs": [
    {
     "data": {
      "text/html": [
       "<div>\n",
       "<style scoped>\n",
       "    .dataframe tbody tr th:only-of-type {\n",
       "        vertical-align: middle;\n",
       "    }\n",
       "\n",
       "    .dataframe tbody tr th {\n",
       "        vertical-align: top;\n",
       "    }\n",
       "\n",
       "    .dataframe thead th {\n",
       "        text-align: right;\n",
       "    }\n",
       "</style>\n",
       "<table border=\"1\" class=\"dataframe\">\n",
       "  <thead>\n",
       "    <tr style=\"text-align: right;\">\n",
       "      <th></th>\n",
       "      <th>ID</th>\n",
       "      <th>PlasmaGlucose</th>\n",
       "      <th>Blood.W.Result-1</th>\n",
       "      <th>BloodPressure</th>\n",
       "      <th>Blood.W.Result-2</th>\n",
       "      <th>Blood.W.Result-3</th>\n",
       "      <th>BMI</th>\n",
       "      <th>Blood.W.Result-4</th>\n",
       "      <th>Age</th>\n",
       "      <th>Insurance</th>\n",
       "    </tr>\n",
       "  </thead>\n",
       "  <tbody>\n",
       "    <tr>\n",
       "      <th>0</th>\n",
       "      <td>ICU200609</td>\n",
       "      <td>1</td>\n",
       "      <td>109</td>\n",
       "      <td>38</td>\n",
       "      <td>18</td>\n",
       "      <td>120</td>\n",
       "      <td>23.1</td>\n",
       "      <td>0.407</td>\n",
       "      <td>26</td>\n",
       "      <td>1</td>\n",
       "    </tr>\n",
       "  </tbody>\n",
       "</table>\n",
       "</div>"
      ],
      "text/plain": [
       "          ID  PlasmaGlucose  Blood.W.Result-1  BloodPressure  \\\n",
       "0  ICU200609              1               109             38   \n",
       "\n",
       "   Blood.W.Result-2  Blood.W.Result-3   BMI  Blood.W.Result-4  Age  Insurance  \n",
       "0                18               120  23.1             0.407   26          1  "
      ]
     },
     "execution_count": 13,
     "metadata": {},
     "output_type": "execute_result"
    }
   ],
   "source": [
    "eval.head(1)"
   ]
  },
  {
   "cell_type": "markdown",
   "metadata": {
    "id": "QCEmWHw1BwSC"
   },
   "source": [
    "**Check for missing values**"
   ]
  },
  {
   "cell_type": "code",
   "execution_count": 14,
   "metadata": {
    "colab": {
     "base_uri": "https://localhost:8080/"
    },
    "id": "RcvYaVfLAk36",
    "outputId": "a8fd2f43-f118-476a-aeaf-377f3dd1d112"
   },
   "outputs": [
    {
     "data": {
      "text/plain": [
       "ID                  0\n",
       "PlasmaGlucose       0\n",
       "Blood.W.Result-1    0\n",
       "BloodPressure       0\n",
       "Blood.W.Result-2    0\n",
       "Blood.W.Result-3    0\n",
       "BMI                 0\n",
       "Blood.W.Result-4    0\n",
       "Age                 0\n",
       "Insurance           0\n",
       "Sepssis             0\n",
       "dtype: int64"
      ]
     },
     "execution_count": 14,
     "metadata": {},
     "output_type": "execute_result"
    }
   ],
   "source": [
    "train.isna().sum()"
   ]
  },
  {
   "cell_type": "code",
   "execution_count": 15,
   "metadata": {
    "colab": {
     "base_uri": "https://localhost:8080/"
    },
    "id": "C2rU9BR0Bjp-",
    "outputId": "fd0de306-a227-4b89-a895-9e3224e8d772"
   },
   "outputs": [
    {
     "data": {
      "text/plain": [
       "ID                  0\n",
       "PlasmaGlucose       0\n",
       "Blood.W.Result-1    0\n",
       "BloodPressure       0\n",
       "Blood.W.Result-2    0\n",
       "Blood.W.Result-3    0\n",
       "BMI                 0\n",
       "Blood.W.Result-4    0\n",
       "Age                 0\n",
       "Insurance           0\n",
       "dtype: int64"
      ]
     },
     "execution_count": 15,
     "metadata": {},
     "output_type": "execute_result"
    }
   ],
   "source": [
    "eval.isna().sum()"
   ]
  },
  {
   "cell_type": "code",
   "execution_count": 16,
   "metadata": {
    "colab": {
     "base_uri": "https://localhost:8080/",
     "height": 206
    },
    "id": "nlfPTbLKBpV9",
    "outputId": "b2989e89-4f98-448e-f602-a779ededbb8f"
   },
   "outputs": [
    {
     "data": {
      "text/html": [
       "<div>\n",
       "<style scoped>\n",
       "    .dataframe tbody tr th:only-of-type {\n",
       "        vertical-align: middle;\n",
       "    }\n",
       "\n",
       "    .dataframe tbody tr th {\n",
       "        vertical-align: top;\n",
       "    }\n",
       "\n",
       "    .dataframe thead th {\n",
       "        text-align: right;\n",
       "    }\n",
       "</style>\n",
       "<table border=\"1\" class=\"dataframe\">\n",
       "  <thead>\n",
       "    <tr style=\"text-align: right;\">\n",
       "      <th></th>\n",
       "      <th>ID</th>\n",
       "      <th>PlasmaGlucose</th>\n",
       "      <th>Blood.W.Result-1</th>\n",
       "      <th>BloodPressure</th>\n",
       "      <th>Blood.W.Result-2</th>\n",
       "      <th>Blood.W.Result-3</th>\n",
       "      <th>BMI</th>\n",
       "      <th>Blood.W.Result-4</th>\n",
       "      <th>Age</th>\n",
       "      <th>Insurance</th>\n",
       "      <th>Sepssis</th>\n",
       "    </tr>\n",
       "  </thead>\n",
       "  <tbody>\n",
       "    <tr>\n",
       "      <th>0</th>\n",
       "      <td>ICU200010</td>\n",
       "      <td>6</td>\n",
       "      <td>148</td>\n",
       "      <td>72</td>\n",
       "      <td>35</td>\n",
       "      <td>0</td>\n",
       "      <td>33.6</td>\n",
       "      <td>0.627</td>\n",
       "      <td>50</td>\n",
       "      <td>0</td>\n",
       "      <td>Positive</td>\n",
       "    </tr>\n",
       "    <tr>\n",
       "      <th>1</th>\n",
       "      <td>ICU200011</td>\n",
       "      <td>1</td>\n",
       "      <td>85</td>\n",
       "      <td>66</td>\n",
       "      <td>29</td>\n",
       "      <td>0</td>\n",
       "      <td>26.6</td>\n",
       "      <td>0.351</td>\n",
       "      <td>31</td>\n",
       "      <td>0</td>\n",
       "      <td>Negative</td>\n",
       "    </tr>\n",
       "    <tr>\n",
       "      <th>2</th>\n",
       "      <td>ICU200012</td>\n",
       "      <td>8</td>\n",
       "      <td>183</td>\n",
       "      <td>64</td>\n",
       "      <td>0</td>\n",
       "      <td>0</td>\n",
       "      <td>23.3</td>\n",
       "      <td>0.672</td>\n",
       "      <td>32</td>\n",
       "      <td>1</td>\n",
       "      <td>Positive</td>\n",
       "    </tr>\n",
       "    <tr>\n",
       "      <th>3</th>\n",
       "      <td>ICU200013</td>\n",
       "      <td>1</td>\n",
       "      <td>89</td>\n",
       "      <td>66</td>\n",
       "      <td>23</td>\n",
       "      <td>94</td>\n",
       "      <td>28.1</td>\n",
       "      <td>0.167</td>\n",
       "      <td>21</td>\n",
       "      <td>1</td>\n",
       "      <td>Negative</td>\n",
       "    </tr>\n",
       "    <tr>\n",
       "      <th>4</th>\n",
       "      <td>ICU200014</td>\n",
       "      <td>0</td>\n",
       "      <td>137</td>\n",
       "      <td>40</td>\n",
       "      <td>35</td>\n",
       "      <td>168</td>\n",
       "      <td>43.1</td>\n",
       "      <td>2.288</td>\n",
       "      <td>33</td>\n",
       "      <td>1</td>\n",
       "      <td>Positive</td>\n",
       "    </tr>\n",
       "  </tbody>\n",
       "</table>\n",
       "</div>"
      ],
      "text/plain": [
       "          ID  PlasmaGlucose  Blood.W.Result-1  BloodPressure  \\\n",
       "0  ICU200010              6               148             72   \n",
       "1  ICU200011              1                85             66   \n",
       "2  ICU200012              8               183             64   \n",
       "3  ICU200013              1                89             66   \n",
       "4  ICU200014              0               137             40   \n",
       "\n",
       "   Blood.W.Result-2  Blood.W.Result-3   BMI  Blood.W.Result-4  Age  Insurance  \\\n",
       "0                35                 0  33.6             0.627   50          0   \n",
       "1                29                 0  26.6             0.351   31          0   \n",
       "2                 0                 0  23.3             0.672   32          1   \n",
       "3                23                94  28.1             0.167   21          1   \n",
       "4                35               168  43.1             2.288   33          1   \n",
       "\n",
       "    Sepssis  \n",
       "0  Positive  \n",
       "1  Negative  \n",
       "2  Positive  \n",
       "3  Negative  \n",
       "4  Positive  "
      ]
     },
     "execution_count": 16,
     "metadata": {},
     "output_type": "execute_result"
    }
   ],
   "source": [
    "train.head()"
   ]
  },
  {
   "cell_type": "markdown",
   "metadata": {
    "id": "1n99IocGFJcl"
   },
   "source": [
    "### **3) Identiying columns to drop**"
   ]
  },
  {
   "cell_type": "markdown",
   "metadata": {
    "id": "FQuTgyOkEwSo"
   },
   "source": [
    "Since our target is the sepsis medical condition , we will have to drop columns unassociated with the sepssis disease ,\n",
    "\n",
    "In this scenario we will have to drop ID column and Insuarance column.\n",
    "Before dropping the Insurance column, we will use a univariate analysis on it to see how it relates to other columns."
   ]
  },
  {
   "cell_type": "markdown",
   "metadata": {
    "id": "8H2NJjlAK8sU"
   },
   "source": [
    "#### **a) sepsiss vs Insurance**"
   ]
  },
  {
   "cell_type": "code",
   "execution_count": 17,
   "metadata": {
    "colab": {
     "base_uri": "https://localhost:8080/"
    },
    "id": "wreYS4rKEo7n",
    "outputId": "3f444302-a2f1-431f-a9be-11014e6ef0db"
   },
   "outputs": [
    {
     "data": {
      "text/plain": [
       "Insurance  Sepssis \n",
       "1          Negative    260\n",
       "           Positive    151\n",
       "0          Negative    131\n",
       "           Positive     57\n",
       "dtype: int64"
      ]
     },
     "execution_count": 17,
     "metadata": {},
     "output_type": "execute_result"
    }
   ],
   "source": [
    "insurance = train[['Insurance', 'Sepssis']]\n",
    "\n",
    "insurance.value_counts()"
   ]
  },
  {
   "cell_type": "code",
   "execution_count": 18,
   "metadata": {
    "colab": {
     "base_uri": "https://localhost:8080/",
     "height": 175
    },
    "id": "pQmDb4hUF0Wh",
    "outputId": "ac0e3f76-41d9-4c93-d13d-fc52729fe1e3"
   },
   "outputs": [
    {
     "data": {
      "text/html": [
       "<div>\n",
       "<style scoped>\n",
       "    .dataframe tbody tr th:only-of-type {\n",
       "        vertical-align: middle;\n",
       "    }\n",
       "\n",
       "    .dataframe tbody tr th {\n",
       "        vertical-align: top;\n",
       "    }\n",
       "\n",
       "    .dataframe thead th {\n",
       "        text-align: right;\n",
       "    }\n",
       "</style>\n",
       "<table border=\"1\" class=\"dataframe\">\n",
       "  <thead>\n",
       "    <tr style=\"text-align: right;\">\n",
       "      <th></th>\n",
       "      <th>Insurance</th>\n",
       "      <th>Sepsssis</th>\n",
       "      <th>Frequency</th>\n",
       "    </tr>\n",
       "  </thead>\n",
       "  <tbody>\n",
       "    <tr>\n",
       "      <th>0</th>\n",
       "      <td>Yes</td>\n",
       "      <td>Negative</td>\n",
       "      <td>260</td>\n",
       "    </tr>\n",
       "    <tr>\n",
       "      <th>1</th>\n",
       "      <td>Yes</td>\n",
       "      <td>Positive</td>\n",
       "      <td>151</td>\n",
       "    </tr>\n",
       "    <tr>\n",
       "      <th>2</th>\n",
       "      <td>No</td>\n",
       "      <td>Negative</td>\n",
       "      <td>131</td>\n",
       "    </tr>\n",
       "    <tr>\n",
       "      <th>3</th>\n",
       "      <td>No</td>\n",
       "      <td>Positive</td>\n",
       "      <td>57</td>\n",
       "    </tr>\n",
       "  </tbody>\n",
       "</table>\n",
       "</div>"
      ],
      "text/plain": [
       "  Insurance  Sepsssis  Frequency\n",
       "0       Yes  Negative        260\n",
       "1       Yes  Positive        151\n",
       "2        No  Negative        131\n",
       "3        No  Positive         57"
      ]
     },
     "execution_count": 18,
     "metadata": {},
     "output_type": "execute_result"
    }
   ],
   "source": [
    "k ={\n",
    "    'Insurance' : ['Yes', 'Yes', 'No', 'No'],\n",
    "    'Sepsssis' : ['Negative' ,'Positive' ,'Negative','Positive' ],\n",
    "    'Frequency' : [260, 151, 131, 57]\n",
    "}\n",
    "k = pd.DataFrame(k)\n",
    "k"
   ]
  },
  {
   "cell_type": "code",
   "execution_count": 19,
   "metadata": {
    "colab": {
     "base_uri": "https://localhost:8080/",
     "height": 417
    },
    "id": "0_fxbxeOKcxz",
    "outputId": "c3ef9ec6-9be5-4fc5-81c5-966ac15fea2c"
   },
   "outputs": [
    {
     "data": {
      "application/vnd.plotly.v1+json": {
       "config": {
        "plotlyServerURL": "https://plot.ly"
       },
       "data": [
        {
         "alignmentgroup": "True",
         "hovertemplate": "Sepsssis=Negative<br>Insurance=%{x}<br>Frequency=%{y}<extra></extra>",
         "legendgroup": "Negative",
         "marker": {
          "color": "#636efa",
          "pattern": {
           "shape": ""
          }
         },
         "name": "Negative",
         "offsetgroup": "Negative",
         "orientation": "v",
         "showlegend": true,
         "textposition": "auto",
         "type": "bar",
         "x": [
          "Yes",
          "No"
         ],
         "xaxis": "x",
         "y": [
          260,
          131
         ],
         "yaxis": "y"
        },
        {
         "alignmentgroup": "True",
         "hovertemplate": "Sepsssis=Positive<br>Insurance=%{x}<br>Frequency=%{y}<extra></extra>",
         "legendgroup": "Positive",
         "marker": {
          "color": "#EF553B",
          "pattern": {
           "shape": ""
          }
         },
         "name": "Positive",
         "offsetgroup": "Positive",
         "orientation": "v",
         "showlegend": true,
         "textposition": "auto",
         "type": "bar",
         "x": [
          "Yes",
          "No"
         ],
         "xaxis": "x",
         "y": [
          151,
          57
         ],
         "yaxis": "y"
        }
       ],
       "layout": {
        "barmode": "relative",
        "height": 400,
        "legend": {
         "title": {
          "text": "Sepsssis"
         },
         "tracegroupgap": 0
        },
        "margin": {
         "t": 60
        },
        "template": {
         "data": {
          "bar": [
           {
            "error_x": {
             "color": "#2a3f5f"
            },
            "error_y": {
             "color": "#2a3f5f"
            },
            "marker": {
             "line": {
              "color": "#E5ECF6",
              "width": 0.5
             },
             "pattern": {
              "fillmode": "overlay",
              "size": 10,
              "solidity": 0.2
             }
            },
            "type": "bar"
           }
          ],
          "barpolar": [
           {
            "marker": {
             "line": {
              "color": "#E5ECF6",
              "width": 0.5
             },
             "pattern": {
              "fillmode": "overlay",
              "size": 10,
              "solidity": 0.2
             }
            },
            "type": "barpolar"
           }
          ],
          "carpet": [
           {
            "aaxis": {
             "endlinecolor": "#2a3f5f",
             "gridcolor": "white",
             "linecolor": "white",
             "minorgridcolor": "white",
             "startlinecolor": "#2a3f5f"
            },
            "baxis": {
             "endlinecolor": "#2a3f5f",
             "gridcolor": "white",
             "linecolor": "white",
             "minorgridcolor": "white",
             "startlinecolor": "#2a3f5f"
            },
            "type": "carpet"
           }
          ],
          "choropleth": [
           {
            "colorbar": {
             "outlinewidth": 0,
             "ticks": ""
            },
            "type": "choropleth"
           }
          ],
          "contour": [
           {
            "colorbar": {
             "outlinewidth": 0,
             "ticks": ""
            },
            "colorscale": [
             [
              0,
              "#0d0887"
             ],
             [
              0.1111111111111111,
              "#46039f"
             ],
             [
              0.2222222222222222,
              "#7201a8"
             ],
             [
              0.3333333333333333,
              "#9c179e"
             ],
             [
              0.4444444444444444,
              "#bd3786"
             ],
             [
              0.5555555555555556,
              "#d8576b"
             ],
             [
              0.6666666666666666,
              "#ed7953"
             ],
             [
              0.7777777777777778,
              "#fb9f3a"
             ],
             [
              0.8888888888888888,
              "#fdca26"
             ],
             [
              1,
              "#f0f921"
             ]
            ],
            "type": "contour"
           }
          ],
          "contourcarpet": [
           {
            "colorbar": {
             "outlinewidth": 0,
             "ticks": ""
            },
            "type": "contourcarpet"
           }
          ],
          "heatmap": [
           {
            "colorbar": {
             "outlinewidth": 0,
             "ticks": ""
            },
            "colorscale": [
             [
              0,
              "#0d0887"
             ],
             [
              0.1111111111111111,
              "#46039f"
             ],
             [
              0.2222222222222222,
              "#7201a8"
             ],
             [
              0.3333333333333333,
              "#9c179e"
             ],
             [
              0.4444444444444444,
              "#bd3786"
             ],
             [
              0.5555555555555556,
              "#d8576b"
             ],
             [
              0.6666666666666666,
              "#ed7953"
             ],
             [
              0.7777777777777778,
              "#fb9f3a"
             ],
             [
              0.8888888888888888,
              "#fdca26"
             ],
             [
              1,
              "#f0f921"
             ]
            ],
            "type": "heatmap"
           }
          ],
          "heatmapgl": [
           {
            "colorbar": {
             "outlinewidth": 0,
             "ticks": ""
            },
            "colorscale": [
             [
              0,
              "#0d0887"
             ],
             [
              0.1111111111111111,
              "#46039f"
             ],
             [
              0.2222222222222222,
              "#7201a8"
             ],
             [
              0.3333333333333333,
              "#9c179e"
             ],
             [
              0.4444444444444444,
              "#bd3786"
             ],
             [
              0.5555555555555556,
              "#d8576b"
             ],
             [
              0.6666666666666666,
              "#ed7953"
             ],
             [
              0.7777777777777778,
              "#fb9f3a"
             ],
             [
              0.8888888888888888,
              "#fdca26"
             ],
             [
              1,
              "#f0f921"
             ]
            ],
            "type": "heatmapgl"
           }
          ],
          "histogram": [
           {
            "marker": {
             "pattern": {
              "fillmode": "overlay",
              "size": 10,
              "solidity": 0.2
             }
            },
            "type": "histogram"
           }
          ],
          "histogram2d": [
           {
            "colorbar": {
             "outlinewidth": 0,
             "ticks": ""
            },
            "colorscale": [
             [
              0,
              "#0d0887"
             ],
             [
              0.1111111111111111,
              "#46039f"
             ],
             [
              0.2222222222222222,
              "#7201a8"
             ],
             [
              0.3333333333333333,
              "#9c179e"
             ],
             [
              0.4444444444444444,
              "#bd3786"
             ],
             [
              0.5555555555555556,
              "#d8576b"
             ],
             [
              0.6666666666666666,
              "#ed7953"
             ],
             [
              0.7777777777777778,
              "#fb9f3a"
             ],
             [
              0.8888888888888888,
              "#fdca26"
             ],
             [
              1,
              "#f0f921"
             ]
            ],
            "type": "histogram2d"
           }
          ],
          "histogram2dcontour": [
           {
            "colorbar": {
             "outlinewidth": 0,
             "ticks": ""
            },
            "colorscale": [
             [
              0,
              "#0d0887"
             ],
             [
              0.1111111111111111,
              "#46039f"
             ],
             [
              0.2222222222222222,
              "#7201a8"
             ],
             [
              0.3333333333333333,
              "#9c179e"
             ],
             [
              0.4444444444444444,
              "#bd3786"
             ],
             [
              0.5555555555555556,
              "#d8576b"
             ],
             [
              0.6666666666666666,
              "#ed7953"
             ],
             [
              0.7777777777777778,
              "#fb9f3a"
             ],
             [
              0.8888888888888888,
              "#fdca26"
             ],
             [
              1,
              "#f0f921"
             ]
            ],
            "type": "histogram2dcontour"
           }
          ],
          "mesh3d": [
           {
            "colorbar": {
             "outlinewidth": 0,
             "ticks": ""
            },
            "type": "mesh3d"
           }
          ],
          "parcoords": [
           {
            "line": {
             "colorbar": {
              "outlinewidth": 0,
              "ticks": ""
             }
            },
            "type": "parcoords"
           }
          ],
          "pie": [
           {
            "automargin": true,
            "type": "pie"
           }
          ],
          "scatter": [
           {
            "fillpattern": {
             "fillmode": "overlay",
             "size": 10,
             "solidity": 0.2
            },
            "type": "scatter"
           }
          ],
          "scatter3d": [
           {
            "line": {
             "colorbar": {
              "outlinewidth": 0,
              "ticks": ""
             }
            },
            "marker": {
             "colorbar": {
              "outlinewidth": 0,
              "ticks": ""
             }
            },
            "type": "scatter3d"
           }
          ],
          "scattercarpet": [
           {
            "marker": {
             "colorbar": {
              "outlinewidth": 0,
              "ticks": ""
             }
            },
            "type": "scattercarpet"
           }
          ],
          "scattergeo": [
           {
            "marker": {
             "colorbar": {
              "outlinewidth": 0,
              "ticks": ""
             }
            },
            "type": "scattergeo"
           }
          ],
          "scattergl": [
           {
            "marker": {
             "colorbar": {
              "outlinewidth": 0,
              "ticks": ""
             }
            },
            "type": "scattergl"
           }
          ],
          "scattermapbox": [
           {
            "marker": {
             "colorbar": {
              "outlinewidth": 0,
              "ticks": ""
             }
            },
            "type": "scattermapbox"
           }
          ],
          "scatterpolar": [
           {
            "marker": {
             "colorbar": {
              "outlinewidth": 0,
              "ticks": ""
             }
            },
            "type": "scatterpolar"
           }
          ],
          "scatterpolargl": [
           {
            "marker": {
             "colorbar": {
              "outlinewidth": 0,
              "ticks": ""
             }
            },
            "type": "scatterpolargl"
           }
          ],
          "scatterternary": [
           {
            "marker": {
             "colorbar": {
              "outlinewidth": 0,
              "ticks": ""
             }
            },
            "type": "scatterternary"
           }
          ],
          "surface": [
           {
            "colorbar": {
             "outlinewidth": 0,
             "ticks": ""
            },
            "colorscale": [
             [
              0,
              "#0d0887"
             ],
             [
              0.1111111111111111,
              "#46039f"
             ],
             [
              0.2222222222222222,
              "#7201a8"
             ],
             [
              0.3333333333333333,
              "#9c179e"
             ],
             [
              0.4444444444444444,
              "#bd3786"
             ],
             [
              0.5555555555555556,
              "#d8576b"
             ],
             [
              0.6666666666666666,
              "#ed7953"
             ],
             [
              0.7777777777777778,
              "#fb9f3a"
             ],
             [
              0.8888888888888888,
              "#fdca26"
             ],
             [
              1,
              "#f0f921"
             ]
            ],
            "type": "surface"
           }
          ],
          "table": [
           {
            "cells": {
             "fill": {
              "color": "#EBF0F8"
             },
             "line": {
              "color": "white"
             }
            },
            "header": {
             "fill": {
              "color": "#C8D4E3"
             },
             "line": {
              "color": "white"
             }
            },
            "type": "table"
           }
          ]
         },
         "layout": {
          "annotationdefaults": {
           "arrowcolor": "#2a3f5f",
           "arrowhead": 0,
           "arrowwidth": 1
          },
          "autotypenumbers": "strict",
          "coloraxis": {
           "colorbar": {
            "outlinewidth": 0,
            "ticks": ""
           }
          },
          "colorscale": {
           "diverging": [
            [
             0,
             "#8e0152"
            ],
            [
             0.1,
             "#c51b7d"
            ],
            [
             0.2,
             "#de77ae"
            ],
            [
             0.3,
             "#f1b6da"
            ],
            [
             0.4,
             "#fde0ef"
            ],
            [
             0.5,
             "#f7f7f7"
            ],
            [
             0.6,
             "#e6f5d0"
            ],
            [
             0.7,
             "#b8e186"
            ],
            [
             0.8,
             "#7fbc41"
            ],
            [
             0.9,
             "#4d9221"
            ],
            [
             1,
             "#276419"
            ]
           ],
           "sequential": [
            [
             0,
             "#0d0887"
            ],
            [
             0.1111111111111111,
             "#46039f"
            ],
            [
             0.2222222222222222,
             "#7201a8"
            ],
            [
             0.3333333333333333,
             "#9c179e"
            ],
            [
             0.4444444444444444,
             "#bd3786"
            ],
            [
             0.5555555555555556,
             "#d8576b"
            ],
            [
             0.6666666666666666,
             "#ed7953"
            ],
            [
             0.7777777777777778,
             "#fb9f3a"
            ],
            [
             0.8888888888888888,
             "#fdca26"
            ],
            [
             1,
             "#f0f921"
            ]
           ],
           "sequentialminus": [
            [
             0,
             "#0d0887"
            ],
            [
             0.1111111111111111,
             "#46039f"
            ],
            [
             0.2222222222222222,
             "#7201a8"
            ],
            [
             0.3333333333333333,
             "#9c179e"
            ],
            [
             0.4444444444444444,
             "#bd3786"
            ],
            [
             0.5555555555555556,
             "#d8576b"
            ],
            [
             0.6666666666666666,
             "#ed7953"
            ],
            [
             0.7777777777777778,
             "#fb9f3a"
            ],
            [
             0.8888888888888888,
             "#fdca26"
            ],
            [
             1,
             "#f0f921"
            ]
           ]
          },
          "colorway": [
           "#636efa",
           "#EF553B",
           "#00cc96",
           "#ab63fa",
           "#FFA15A",
           "#19d3f3",
           "#FF6692",
           "#B6E880",
           "#FF97FF",
           "#FECB52"
          ],
          "font": {
           "color": "#2a3f5f"
          },
          "geo": {
           "bgcolor": "white",
           "lakecolor": "white",
           "landcolor": "#E5ECF6",
           "showlakes": true,
           "showland": true,
           "subunitcolor": "white"
          },
          "hoverlabel": {
           "align": "left"
          },
          "hovermode": "closest",
          "mapbox": {
           "style": "light"
          },
          "paper_bgcolor": "white",
          "plot_bgcolor": "#E5ECF6",
          "polar": {
           "angularaxis": {
            "gridcolor": "white",
            "linecolor": "white",
            "ticks": ""
           },
           "bgcolor": "#E5ECF6",
           "radialaxis": {
            "gridcolor": "white",
            "linecolor": "white",
            "ticks": ""
           }
          },
          "scene": {
           "xaxis": {
            "backgroundcolor": "#E5ECF6",
            "gridcolor": "white",
            "gridwidth": 2,
            "linecolor": "white",
            "showbackground": true,
            "ticks": "",
            "zerolinecolor": "white"
           },
           "yaxis": {
            "backgroundcolor": "#E5ECF6",
            "gridcolor": "white",
            "gridwidth": 2,
            "linecolor": "white",
            "showbackground": true,
            "ticks": "",
            "zerolinecolor": "white"
           },
           "zaxis": {
            "backgroundcolor": "#E5ECF6",
            "gridcolor": "white",
            "gridwidth": 2,
            "linecolor": "white",
            "showbackground": true,
            "ticks": "",
            "zerolinecolor": "white"
           }
          },
          "shapedefaults": {
           "line": {
            "color": "#2a3f5f"
           }
          },
          "ternary": {
           "aaxis": {
            "gridcolor": "white",
            "linecolor": "white",
            "ticks": ""
           },
           "baxis": {
            "gridcolor": "white",
            "linecolor": "white",
            "ticks": ""
           },
           "bgcolor": "#E5ECF6",
           "caxis": {
            "gridcolor": "white",
            "linecolor": "white",
            "ticks": ""
           }
          },
          "title": {
           "x": 0.05
          },
          "xaxis": {
           "automargin": true,
           "gridcolor": "white",
           "linecolor": "white",
           "ticks": "",
           "title": {
            "standoff": 15
           },
           "zerolinecolor": "white",
           "zerolinewidth": 2
          },
          "yaxis": {
           "automargin": true,
           "gridcolor": "white",
           "linecolor": "white",
           "ticks": "",
           "title": {
            "standoff": 15
           },
           "zerolinecolor": "white",
           "zerolinewidth": 2
          }
         }
        },
        "xaxis": {
         "anchor": "y",
         "domain": [
          0,
          1
         ],
         "title": {
          "text": "Insurance"
         }
        },
        "yaxis": {
         "anchor": "x",
         "domain": [
          0,
          1
         ],
         "title": {
          "text": "Frequency"
         }
        }
       }
      }
     },
     "metadata": {},
     "output_type": "display_data"
    }
   ],
   "source": [
    "fig = px.bar( k , x='Insurance', y='Frequency',\n",
    "             hover_data=['Insurance'], color='Sepsssis',\n",
    "             labels={'pop':'frequency'}, height=400)\n",
    "fig.show()"
   ]
  },
  {
   "cell_type": "markdown",
   "metadata": {
    "id": "Gjs2g0RhLS3d"
   },
   "source": [
    "#### **b) Disease VS Age**"
   ]
  },
  {
   "cell_type": "code",
   "execution_count": 20,
   "metadata": {
    "colab": {
     "base_uri": "https://localhost:8080/"
    },
    "id": "-Eq4VwHYLyIA",
    "outputId": "0c1861ba-949a-4d0f-8d44-89ddf33167da"
   },
   "outputs": [
    {
     "data": {
      "text/plain": [
       "50"
      ]
     },
     "execution_count": 20,
     "metadata": {},
     "output_type": "execute_result"
    }
   ],
   "source": [
    "train['Age'].nunique()"
   ]
  },
  {
   "cell_type": "code",
   "execution_count": 21,
   "metadata": {
    "colab": {
     "base_uri": "https://localhost:8080/"
    },
    "id": "KTKL4jiiMY6J",
    "outputId": "51f08bdd-de02-4334-b79d-a2a958c94631"
   },
   "outputs": [
    {
     "data": {
      "text/plain": [
       "21"
      ]
     },
     "execution_count": 21,
     "metadata": {},
     "output_type": "execute_result"
    }
   ],
   "source": [
    "train['Age'].min()"
   ]
  },
  {
   "cell_type": "code",
   "execution_count": 22,
   "metadata": {
    "colab": {
     "base_uri": "https://localhost:8080/"
    },
    "id": "LmDpjrPKMcSB",
    "outputId": "6cf148a6-e6b8-43ac-a340-4ddf6c6ba59c"
   },
   "outputs": [
    {
     "data": {
      "text/plain": [
       "81"
      ]
     },
     "execution_count": 22,
     "metadata": {},
     "output_type": "execute_result"
    }
   ],
   "source": [
    "train['Age'].max()"
   ]
  },
  {
   "cell_type": "code",
   "execution_count": 23,
   "metadata": {
    "id": "_ajop_66MAcK"
   },
   "outputs": [],
   "source": [
    "#train['Age'].value_counts()"
   ]
  },
  {
   "cell_type": "code",
   "execution_count": 24,
   "metadata": {
    "id": "2t_pVN5KMgpx"
   },
   "outputs": [],
   "source": [
    "age = train[['Age', 'Sepssis']]"
   ]
  },
  {
   "cell_type": "code",
   "execution_count": 25,
   "metadata": {
    "id": "waPVOPWzLRzM"
   },
   "outputs": [],
   "source": [
    "# # min 21 , Max 81\n",
    "# # G1 = 21-35 , G2 = 35 - 45 , G3 = 46 - 60, G4 = Above 60\n",
    "# age['21 - 35 yrs'] = age[['Age'] < 36]\n",
    "# age['36 - 45 yrs'] = (age[['Age'] > 35]) & (age[['Age'] < 45])\n",
    "# age['46 - 60 yrs'] = (age[['Age'] > 45]) & (age[['Age'] < 61])\n",
    "# age['Above yrs'] = age[['Age'] > 60]"
   ]
  },
  {
   "cell_type": "code",
   "execution_count": 26,
   "metadata": {
    "colab": {
     "base_uri": "https://localhost:8080/",
     "height": 424
    },
    "id": "1kxYmxKROrsE",
    "outputId": "4beedb01-504c-4e92-849c-9a0148a76415"
   },
   "outputs": [
    {
     "data": {
      "text/html": [
       "<div>\n",
       "<style scoped>\n",
       "    .dataframe tbody tr th:only-of-type {\n",
       "        vertical-align: middle;\n",
       "    }\n",
       "\n",
       "    .dataframe tbody tr th {\n",
       "        vertical-align: top;\n",
       "    }\n",
       "\n",
       "    .dataframe thead th {\n",
       "        text-align: right;\n",
       "    }\n",
       "</style>\n",
       "<table border=\"1\" class=\"dataframe\">\n",
       "  <thead>\n",
       "    <tr style=\"text-align: right;\">\n",
       "      <th></th>\n",
       "      <th>Age</th>\n",
       "      <th>Sepssis</th>\n",
       "    </tr>\n",
       "  </thead>\n",
       "  <tbody>\n",
       "    <tr>\n",
       "      <th>0</th>\n",
       "      <td>50</td>\n",
       "      <td>Positive</td>\n",
       "    </tr>\n",
       "    <tr>\n",
       "      <th>1</th>\n",
       "      <td>31</td>\n",
       "      <td>Negative</td>\n",
       "    </tr>\n",
       "    <tr>\n",
       "      <th>2</th>\n",
       "      <td>32</td>\n",
       "      <td>Positive</td>\n",
       "    </tr>\n",
       "    <tr>\n",
       "      <th>3</th>\n",
       "      <td>21</td>\n",
       "      <td>Negative</td>\n",
       "    </tr>\n",
       "    <tr>\n",
       "      <th>4</th>\n",
       "      <td>33</td>\n",
       "      <td>Positive</td>\n",
       "    </tr>\n",
       "    <tr>\n",
       "      <th>...</th>\n",
       "      <td>...</td>\n",
       "      <td>...</td>\n",
       "    </tr>\n",
       "    <tr>\n",
       "      <th>594</th>\n",
       "      <td>34</td>\n",
       "      <td>Negative</td>\n",
       "    </tr>\n",
       "    <tr>\n",
       "      <th>595</th>\n",
       "      <td>22</td>\n",
       "      <td>Positive</td>\n",
       "    </tr>\n",
       "    <tr>\n",
       "      <th>596</th>\n",
       "      <td>46</td>\n",
       "      <td>Negative</td>\n",
       "    </tr>\n",
       "    <tr>\n",
       "      <th>597</th>\n",
       "      <td>21</td>\n",
       "      <td>Negative</td>\n",
       "    </tr>\n",
       "    <tr>\n",
       "      <th>598</th>\n",
       "      <td>38</td>\n",
       "      <td>Positive</td>\n",
       "    </tr>\n",
       "  </tbody>\n",
       "</table>\n",
       "<p>599 rows × 2 columns</p>\n",
       "</div>"
      ],
      "text/plain": [
       "     Age   Sepssis\n",
       "0     50  Positive\n",
       "1     31  Negative\n",
       "2     32  Positive\n",
       "3     21  Negative\n",
       "4     33  Positive\n",
       "..   ...       ...\n",
       "594   34  Negative\n",
       "595   22  Positive\n",
       "596   46  Negative\n",
       "597   21  Negative\n",
       "598   38  Positive\n",
       "\n",
       "[599 rows x 2 columns]"
      ]
     },
     "execution_count": 26,
     "metadata": {},
     "output_type": "execute_result"
    }
   ],
   "source": [
    "age"
   ]
  },
  {
   "cell_type": "code",
   "execution_count": 27,
   "metadata": {
    "colab": {
     "base_uri": "https://localhost:8080/"
    },
    "id": "UA-9Mr9tGK0R",
    "outputId": "5572afd0-f2c3-401b-c428-523e293509b3"
   },
   "outputs": [
    {
     "name": "stdout",
     "output_type": "stream",
     "text": [
      "<class 'pandas.core.frame.DataFrame'>\n",
      "RangeIndex: 599 entries, 0 to 598\n",
      "Data columns (total 11 columns):\n",
      " #   Column            Non-Null Count  Dtype  \n",
      "---  ------            --------------  -----  \n",
      " 0   ID                599 non-null    object \n",
      " 1   PlasmaGlucose     599 non-null    int64  \n",
      " 2   Blood.W.Result-1  599 non-null    int64  \n",
      " 3   BloodPressure     599 non-null    int64  \n",
      " 4   Blood.W.Result-2  599 non-null    int64  \n",
      " 5   Blood.W.Result-3  599 non-null    int64  \n",
      " 6   BMI               599 non-null    float64\n",
      " 7   Blood.W.Result-4  599 non-null    float64\n",
      " 8   Age               599 non-null    int64  \n",
      " 9   Insurance         599 non-null    int64  \n",
      " 10  Sepssis           599 non-null    object \n",
      "dtypes: float64(2), int64(7), object(2)\n",
      "memory usage: 51.6+ KB\n"
     ]
    }
   ],
   "source": [
    "train.info()"
   ]
  },
  {
   "cell_type": "code",
   "execution_count": 28,
   "metadata": {
    "colab": {
     "base_uri": "https://localhost:8080/"
    },
    "id": "9kJ9DVU0aJLF",
    "outputId": "e34fdcac-fcb5-45f5-e8d1-856289622c35"
   },
   "outputs": [
    {
     "data": {
      "text/plain": [
       "0      ICU200010\n",
       "1      ICU200011\n",
       "2      ICU200012\n",
       "3      ICU200013\n",
       "4      ICU200014\n",
       "         ...    \n",
       "594    ICU200604\n",
       "595    ICU200605\n",
       "596    ICU200606\n",
       "597    ICU200607\n",
       "598    ICU200608\n",
       "Name: ID, Length: 599, dtype: object"
      ]
     },
     "execution_count": 28,
     "metadata": {},
     "output_type": "execute_result"
    }
   ],
   "source": [
    "train['ID']"
   ]
  },
  {
   "cell_type": "code",
   "execution_count": null,
   "metadata": {},
   "outputs": [
    {
     "ename": "",
     "evalue": "",
     "output_type": "error",
     "traceback": [
      "\u001b[1;31mFailed to start the Kernel. \n",
      "\u001b[1;31mUnable to start Kernel 'Python 3.10.7' due to a timeout waiting for the ports to get used. \n",
      "\u001b[1;31mView Jupyter <a href='command:jupyter.viewOutput'>log</a> for further details."
     ]
    }
   ],
   "source": [
    "# from pandas_profiling import ProfileReport\n",
    "# from IPython.display import display"
   ]
  },
  {
   "cell_type": "code",
   "execution_count": null,
   "metadata": {},
   "outputs": [],
   "source": [
    "# # Create a pandas profiling report for train_df\n",
    "# train_profile = ProfileReport(train , title='Train Dataset Pandas Profiling Report', explorative=True)\n",
    "\n",
    "# # Display the pandas profiling report for train_df in Colab\n",
    "# display(train_profile)"
   ]
  },
  {
   "cell_type": "code",
   "execution_count": 29,
   "metadata": {
    "id": "x0emWYH2aJLF"
   },
   "outputs": [],
   "source": [
    "# Dropping the ID column"
   ]
  },
  {
   "cell_type": "code",
   "execution_count": 30,
   "metadata": {
    "id": "B-ygSk-3aJLF"
   },
   "outputs": [],
   "source": [
    "train.drop('ID', axis=True, inplace = True)"
   ]
  },
  {
   "cell_type": "code",
   "execution_count": 31,
   "metadata": {
    "id": "dDN3172DaJLG"
   },
   "outputs": [],
   "source": [
    "#Importing Encoders and scalers\n",
    "from sklearn.preprocessing import StandardScaler\n",
    "from sklearn.preprocessing import LabelEncoder\n",
    "\n",
    "#Importing splitting module\n",
    "from sklearn.model_selection import train_test_split\n",
    "\n",
    "#Importing Models to run\n",
    "from sklearn.ensemble import GradientBoostingClassifier\n",
    "from sklearn.ensemble import RandomForestClassifier\n",
    "from sklearn.tree import DecisionTreeClassifier\n",
    "from sklearn.neighbors import KNeighborsClassifier\n",
    "from sklearn.linear_model import LogisticRegression\n",
    "from sklearn import svm\n",
    "\n",
    "# Import warning filter\n",
    "import warnings\n",
    "warnings.filterwarnings('ignore')"
   ]
  },
  {
   "cell_type": "code",
   "execution_count": 32,
   "metadata": {
    "colab": {
     "base_uri": "https://localhost:8080/",
     "height": 112
    },
    "id": "e1__TLpEaJLG",
    "outputId": "c043f4e4-6775-4d85-9176-dfdb313316e1"
   },
   "outputs": [
    {
     "data": {
      "text/html": [
       "<div>\n",
       "<style scoped>\n",
       "    .dataframe tbody tr th:only-of-type {\n",
       "        vertical-align: middle;\n",
       "    }\n",
       "\n",
       "    .dataframe tbody tr th {\n",
       "        vertical-align: top;\n",
       "    }\n",
       "\n",
       "    .dataframe thead th {\n",
       "        text-align: right;\n",
       "    }\n",
       "</style>\n",
       "<table border=\"1\" class=\"dataframe\">\n",
       "  <thead>\n",
       "    <tr style=\"text-align: right;\">\n",
       "      <th></th>\n",
       "      <th>PlasmaGlucose</th>\n",
       "      <th>Blood.W.Result-1</th>\n",
       "      <th>BloodPressure</th>\n",
       "      <th>Blood.W.Result-2</th>\n",
       "      <th>Blood.W.Result-3</th>\n",
       "      <th>BMI</th>\n",
       "      <th>Blood.W.Result-4</th>\n",
       "      <th>Age</th>\n",
       "      <th>Insurance</th>\n",
       "      <th>Sepssis</th>\n",
       "    </tr>\n",
       "  </thead>\n",
       "  <tbody>\n",
       "    <tr>\n",
       "      <th>0</th>\n",
       "      <td>6</td>\n",
       "      <td>148</td>\n",
       "      <td>72</td>\n",
       "      <td>35</td>\n",
       "      <td>0</td>\n",
       "      <td>33.6</td>\n",
       "      <td>0.627</td>\n",
       "      <td>50</td>\n",
       "      <td>0</td>\n",
       "      <td>Positive</td>\n",
       "    </tr>\n",
       "    <tr>\n",
       "      <th>1</th>\n",
       "      <td>1</td>\n",
       "      <td>85</td>\n",
       "      <td>66</td>\n",
       "      <td>29</td>\n",
       "      <td>0</td>\n",
       "      <td>26.6</td>\n",
       "      <td>0.351</td>\n",
       "      <td>31</td>\n",
       "      <td>0</td>\n",
       "      <td>Negative</td>\n",
       "    </tr>\n",
       "  </tbody>\n",
       "</table>\n",
       "</div>"
      ],
      "text/plain": [
       "   PlasmaGlucose  Blood.W.Result-1  BloodPressure  Blood.W.Result-2  \\\n",
       "0              6               148             72                35   \n",
       "1              1                85             66                29   \n",
       "\n",
       "   Blood.W.Result-3   BMI  Blood.W.Result-4  Age  Insurance   Sepssis  \n",
       "0                 0  33.6             0.627   50          0  Positive  \n",
       "1                 0  26.6             0.351   31          0  Negative  "
      ]
     },
     "execution_count": 32,
     "metadata": {},
     "output_type": "execute_result"
    }
   ],
   "source": [
    "train.head(2)"
   ]
  },
  {
   "cell_type": "code",
   "execution_count": 33,
   "metadata": {
    "id": "9jFNpnJRaJLM"
   },
   "outputs": [],
   "source": [
    "scaler = StandardScaler()"
   ]
  },
  {
   "cell_type": "code",
   "execution_count": 34,
   "metadata": {
    "id": "IZsY2FoeaJLN"
   },
   "outputs": [],
   "source": [
    "X = train.drop('Sepssis', axis = 1)\n",
    "y = train['Sepssis']"
   ]
  },
  {
   "cell_type": "code",
   "execution_count": 35,
   "metadata": {
    "colab": {
     "base_uri": "https://localhost:8080/",
     "height": 81
    },
    "id": "TToIEBYzaJLN",
    "outputId": "6986a551-3bd4-49f3-ba8b-83d6de9c5c69"
   },
   "outputs": [
    {
     "data": {
      "text/html": [
       "<div>\n",
       "<style scoped>\n",
       "    .dataframe tbody tr th:only-of-type {\n",
       "        vertical-align: middle;\n",
       "    }\n",
       "\n",
       "    .dataframe tbody tr th {\n",
       "        vertical-align: top;\n",
       "    }\n",
       "\n",
       "    .dataframe thead th {\n",
       "        text-align: right;\n",
       "    }\n",
       "</style>\n",
       "<table border=\"1\" class=\"dataframe\">\n",
       "  <thead>\n",
       "    <tr style=\"text-align: right;\">\n",
       "      <th></th>\n",
       "      <th>PlasmaGlucose</th>\n",
       "      <th>Blood.W.Result-1</th>\n",
       "      <th>BloodPressure</th>\n",
       "      <th>Blood.W.Result-2</th>\n",
       "      <th>Blood.W.Result-3</th>\n",
       "      <th>BMI</th>\n",
       "      <th>Blood.W.Result-4</th>\n",
       "      <th>Age</th>\n",
       "      <th>Insurance</th>\n",
       "    </tr>\n",
       "  </thead>\n",
       "  <tbody>\n",
       "    <tr>\n",
       "      <th>0</th>\n",
       "      <td>6</td>\n",
       "      <td>148</td>\n",
       "      <td>72</td>\n",
       "      <td>35</td>\n",
       "      <td>0</td>\n",
       "      <td>33.6</td>\n",
       "      <td>0.627</td>\n",
       "      <td>50</td>\n",
       "      <td>0</td>\n",
       "    </tr>\n",
       "  </tbody>\n",
       "</table>\n",
       "</div>"
      ],
      "text/plain": [
       "   PlasmaGlucose  Blood.W.Result-1  BloodPressure  Blood.W.Result-2  \\\n",
       "0              6               148             72                35   \n",
       "\n",
       "   Blood.W.Result-3   BMI  Blood.W.Result-4  Age  Insurance  \n",
       "0                 0  33.6             0.627   50          0  "
      ]
     },
     "execution_count": 35,
     "metadata": {},
     "output_type": "execute_result"
    }
   ],
   "source": [
    "X.head(1)"
   ]
  },
  {
   "cell_type": "code",
   "execution_count": 36,
   "metadata": {
    "colab": {
     "base_uri": "https://localhost:8080/"
    },
    "id": "o_XekcoFaJLN",
    "outputId": "9c47af64-a9f4-49eb-eee6-d28427a415b5"
   },
   "outputs": [
    {
     "data": {
      "text/plain": [
       "0    Positive\n",
       "1    Negative\n",
       "Name: Sepssis, dtype: object"
      ]
     },
     "execution_count": 36,
     "metadata": {},
     "output_type": "execute_result"
    }
   ],
   "source": [
    "y.head(2)"
   ]
  },
  {
   "cell_type": "code",
   "execution_count": 37,
   "metadata": {
    "id": "dWEE6clDaJLO"
   },
   "outputs": [],
   "source": [
    "X_scaled = scaler.fit_transform(X)"
   ]
  },
  {
   "cell_type": "code",
   "execution_count": 38,
   "metadata": {
    "colab": {
     "base_uri": "https://localhost:8080/",
     "height": 424
    },
    "id": "tReiYyJVaJLO",
    "outputId": "0554b89f-34a0-42b6-a513-e41b9f2b3f5a"
   },
   "outputs": [
    {
     "data": {
      "text/html": [
       "<div>\n",
       "<style scoped>\n",
       "    .dataframe tbody tr th:only-of-type {\n",
       "        vertical-align: middle;\n",
       "    }\n",
       "\n",
       "    .dataframe tbody tr th {\n",
       "        vertical-align: top;\n",
       "    }\n",
       "\n",
       "    .dataframe thead th {\n",
       "        text-align: right;\n",
       "    }\n",
       "</style>\n",
       "<table border=\"1\" class=\"dataframe\">\n",
       "  <thead>\n",
       "    <tr style=\"text-align: right;\">\n",
       "      <th></th>\n",
       "      <th>0</th>\n",
       "      <th>1</th>\n",
       "      <th>2</th>\n",
       "      <th>3</th>\n",
       "      <th>4</th>\n",
       "      <th>5</th>\n",
       "      <th>6</th>\n",
       "      <th>7</th>\n",
       "      <th>8</th>\n",
       "    </tr>\n",
       "  </thead>\n",
       "  <tbody>\n",
       "    <tr>\n",
       "      <th>0</th>\n",
       "      <td>0.647402</td>\n",
       "      <td>0.852744</td>\n",
       "      <td>0.169109</td>\n",
       "      <td>0.902098</td>\n",
       "      <td>-0.682191</td>\n",
       "      <td>0.209955</td>\n",
       "      <td>0.432333</td>\n",
       "      <td>1.413836</td>\n",
       "      <td>-1.478570</td>\n",
       "    </tr>\n",
       "    <tr>\n",
       "      <th>1</th>\n",
       "      <td>-0.840679</td>\n",
       "      <td>-1.076512</td>\n",
       "      <td>-0.141457</td>\n",
       "      <td>0.527197</td>\n",
       "      <td>-0.682191</td>\n",
       "      <td>-0.664876</td>\n",
       "      <td>-0.386002</td>\n",
       "      <td>-0.193804</td>\n",
       "      <td>-1.478570</td>\n",
       "    </tr>\n",
       "    <tr>\n",
       "      <th>2</th>\n",
       "      <td>1.242635</td>\n",
       "      <td>1.924553</td>\n",
       "      <td>-0.244979</td>\n",
       "      <td>-1.284822</td>\n",
       "      <td>-0.682191</td>\n",
       "      <td>-1.077297</td>\n",
       "      <td>0.565757</td>\n",
       "      <td>-0.109191</td>\n",
       "      <td>0.676329</td>\n",
       "    </tr>\n",
       "    <tr>\n",
       "      <th>3</th>\n",
       "      <td>-0.840679</td>\n",
       "      <td>-0.954020</td>\n",
       "      <td>-0.141457</td>\n",
       "      <td>0.152297</td>\n",
       "      <td>0.124823</td>\n",
       "      <td>-0.477412</td>\n",
       "      <td>-0.931558</td>\n",
       "      <td>-1.039930</td>\n",
       "      <td>0.676329</td>\n",
       "    </tr>\n",
       "    <tr>\n",
       "      <th>4</th>\n",
       "      <td>-1.138295</td>\n",
       "      <td>0.515890</td>\n",
       "      <td>-1.487246</td>\n",
       "      <td>0.902098</td>\n",
       "      <td>0.760132</td>\n",
       "      <td>1.397227</td>\n",
       "      <td>5.357163</td>\n",
       "      <td>-0.024579</td>\n",
       "      <td>0.676329</td>\n",
       "    </tr>\n",
       "    <tr>\n",
       "      <th>...</th>\n",
       "      <td>...</td>\n",
       "      <td>...</td>\n",
       "      <td>...</td>\n",
       "      <td>...</td>\n",
       "      <td>...</td>\n",
       "      <td>...</td>\n",
       "      <td>...</td>\n",
       "      <td>...</td>\n",
       "      <td>...</td>\n",
       "    </tr>\n",
       "    <tr>\n",
       "      <th>594</th>\n",
       "      <td>0.647402</td>\n",
       "      <td>0.087166</td>\n",
       "      <td>0.169109</td>\n",
       "      <td>1.526932</td>\n",
       "      <td>1.292417</td>\n",
       "      <td>0.209955</td>\n",
       "      <td>0.746620</td>\n",
       "      <td>0.060034</td>\n",
       "      <td>-1.478570</td>\n",
       "    </tr>\n",
       "    <tr>\n",
       "      <th>595</th>\n",
       "      <td>-1.138295</td>\n",
       "      <td>2.077668</td>\n",
       "      <td>0.686720</td>\n",
       "      <td>-0.410054</td>\n",
       "      <td>0.906081</td>\n",
       "      <td>0.009994</td>\n",
       "      <td>0.595406</td>\n",
       "      <td>-0.955317</td>\n",
       "      <td>0.676329</td>\n",
       "    </tr>\n",
       "    <tr>\n",
       "      <th>596</th>\n",
       "      <td>-1.138295</td>\n",
       "      <td>-1.627728</td>\n",
       "      <td>0.376154</td>\n",
       "      <td>-1.284822</td>\n",
       "      <td>-0.682191</td>\n",
       "      <td>1.672174</td>\n",
       "      <td>-0.851503</td>\n",
       "      <td>1.075385</td>\n",
       "      <td>0.676329</td>\n",
       "    </tr>\n",
       "    <tr>\n",
       "      <th>597</th>\n",
       "      <td>-0.840679</td>\n",
       "      <td>-0.954020</td>\n",
       "      <td>-2.315423</td>\n",
       "      <td>-0.097637</td>\n",
       "      <td>-0.467559</td>\n",
       "      <td>-0.514905</td>\n",
       "      <td>0.230714</td>\n",
       "      <td>-1.039930</td>\n",
       "      <td>-1.478570</td>\n",
       "    </tr>\n",
       "    <tr>\n",
       "      <th>598</th>\n",
       "      <td>-0.840679</td>\n",
       "      <td>1.618322</td>\n",
       "      <td>0.272631</td>\n",
       "      <td>-1.284822</td>\n",
       "      <td>-0.682191</td>\n",
       "      <td>0.609878</td>\n",
       "      <td>-1.165791</td>\n",
       "      <td>0.398484</td>\n",
       "      <td>0.676329</td>\n",
       "    </tr>\n",
       "  </tbody>\n",
       "</table>\n",
       "<p>599 rows × 9 columns</p>\n",
       "</div>"
      ],
      "text/plain": [
       "            0         1         2         3         4         5         6  \\\n",
       "0    0.647402  0.852744  0.169109  0.902098 -0.682191  0.209955  0.432333   \n",
       "1   -0.840679 -1.076512 -0.141457  0.527197 -0.682191 -0.664876 -0.386002   \n",
       "2    1.242635  1.924553 -0.244979 -1.284822 -0.682191 -1.077297  0.565757   \n",
       "3   -0.840679 -0.954020 -0.141457  0.152297  0.124823 -0.477412 -0.931558   \n",
       "4   -1.138295  0.515890 -1.487246  0.902098  0.760132  1.397227  5.357163   \n",
       "..        ...       ...       ...       ...       ...       ...       ...   \n",
       "594  0.647402  0.087166  0.169109  1.526932  1.292417  0.209955  0.746620   \n",
       "595 -1.138295  2.077668  0.686720 -0.410054  0.906081  0.009994  0.595406   \n",
       "596 -1.138295 -1.627728  0.376154 -1.284822 -0.682191  1.672174 -0.851503   \n",
       "597 -0.840679 -0.954020 -2.315423 -0.097637 -0.467559 -0.514905  0.230714   \n",
       "598 -0.840679  1.618322  0.272631 -1.284822 -0.682191  0.609878 -1.165791   \n",
       "\n",
       "            7         8  \n",
       "0    1.413836 -1.478570  \n",
       "1   -0.193804 -1.478570  \n",
       "2   -0.109191  0.676329  \n",
       "3   -1.039930  0.676329  \n",
       "4   -0.024579  0.676329  \n",
       "..        ...       ...  \n",
       "594  0.060034 -1.478570  \n",
       "595 -0.955317  0.676329  \n",
       "596  1.075385  0.676329  \n",
       "597 -1.039930 -1.478570  \n",
       "598  0.398484  0.676329  \n",
       "\n",
       "[599 rows x 9 columns]"
      ]
     },
     "execution_count": 38,
     "metadata": {},
     "output_type": "execute_result"
    }
   ],
   "source": [
    "X_scaled_ = pd.DataFrame(X_scaled)\n",
    "\n",
    "X_scaled_"
   ]
  },
  {
   "cell_type": "code",
   "execution_count": 39,
   "metadata": {
    "id": "mFyrPiDPaJLO"
   },
   "outputs": [],
   "source": [
    "# encode the categorical column, the target column"
   ]
  },
  {
   "cell_type": "code",
   "execution_count": 40,
   "metadata": {
    "colab": {
     "base_uri": "https://localhost:8080/",
     "height": 206
    },
    "id": "sdvGDjbsaJLP",
    "outputId": "91cebc4d-f73d-4917-d94f-64feecf65c2e"
   },
   "outputs": [
    {
     "data": {
      "text/html": [
       "<div>\n",
       "<style scoped>\n",
       "    .dataframe tbody tr th:only-of-type {\n",
       "        vertical-align: middle;\n",
       "    }\n",
       "\n",
       "    .dataframe tbody tr th {\n",
       "        vertical-align: top;\n",
       "    }\n",
       "\n",
       "    .dataframe thead th {\n",
       "        text-align: right;\n",
       "    }\n",
       "</style>\n",
       "<table border=\"1\" class=\"dataframe\">\n",
       "  <thead>\n",
       "    <tr style=\"text-align: right;\">\n",
       "      <th></th>\n",
       "      <th>0</th>\n",
       "    </tr>\n",
       "  </thead>\n",
       "  <tbody>\n",
       "    <tr>\n",
       "      <th>0</th>\n",
       "      <td>1</td>\n",
       "    </tr>\n",
       "    <tr>\n",
       "      <th>1</th>\n",
       "      <td>0</td>\n",
       "    </tr>\n",
       "    <tr>\n",
       "      <th>2</th>\n",
       "      <td>1</td>\n",
       "    </tr>\n",
       "    <tr>\n",
       "      <th>3</th>\n",
       "      <td>0</td>\n",
       "    </tr>\n",
       "    <tr>\n",
       "      <th>4</th>\n",
       "      <td>1</td>\n",
       "    </tr>\n",
       "  </tbody>\n",
       "</table>\n",
       "</div>"
      ],
      "text/plain": [
       "   0\n",
       "0  1\n",
       "1  0\n",
       "2  1\n",
       "3  0\n",
       "4  1"
      ]
     },
     "execution_count": 40,
     "metadata": {},
     "output_type": "execute_result"
    }
   ],
   "source": [
    "le = LabelEncoder()\n",
    "\n",
    "y_encoded = le.fit_transform(y)\n",
    "\n",
    "y_encoded_ = pd.DataFrame(y_encoded)\n",
    "\n",
    "y_encoded_.head()"
   ]
  },
  {
   "cell_type": "code",
   "execution_count": 41,
   "metadata": {
    "colab": {
     "base_uri": "https://localhost:8080/",
     "height": 424
    },
    "id": "NpMHdO8paJLP",
    "outputId": "63635130-1cd1-4d46-a654-8f97723cefd9"
   },
   "outputs": [
    {
     "data": {
      "text/html": [
       "<div>\n",
       "<style scoped>\n",
       "    .dataframe tbody tr th:only-of-type {\n",
       "        vertical-align: middle;\n",
       "    }\n",
       "\n",
       "    .dataframe tbody tr th {\n",
       "        vertical-align: top;\n",
       "    }\n",
       "\n",
       "    .dataframe thead th {\n",
       "        text-align: right;\n",
       "    }\n",
       "</style>\n",
       "<table border=\"1\" class=\"dataframe\">\n",
       "  <thead>\n",
       "    <tr style=\"text-align: right;\">\n",
       "      <th></th>\n",
       "      <th>0</th>\n",
       "    </tr>\n",
       "  </thead>\n",
       "  <tbody>\n",
       "    <tr>\n",
       "      <th>0</th>\n",
       "      <td>1</td>\n",
       "    </tr>\n",
       "    <tr>\n",
       "      <th>1</th>\n",
       "      <td>0</td>\n",
       "    </tr>\n",
       "    <tr>\n",
       "      <th>2</th>\n",
       "      <td>1</td>\n",
       "    </tr>\n",
       "    <tr>\n",
       "      <th>3</th>\n",
       "      <td>0</td>\n",
       "    </tr>\n",
       "    <tr>\n",
       "      <th>4</th>\n",
       "      <td>1</td>\n",
       "    </tr>\n",
       "    <tr>\n",
       "      <th>...</th>\n",
       "      <td>...</td>\n",
       "    </tr>\n",
       "    <tr>\n",
       "      <th>594</th>\n",
       "      <td>0</td>\n",
       "    </tr>\n",
       "    <tr>\n",
       "      <th>595</th>\n",
       "      <td>1</td>\n",
       "    </tr>\n",
       "    <tr>\n",
       "      <th>596</th>\n",
       "      <td>0</td>\n",
       "    </tr>\n",
       "    <tr>\n",
       "      <th>597</th>\n",
       "      <td>0</td>\n",
       "    </tr>\n",
       "    <tr>\n",
       "      <th>598</th>\n",
       "      <td>1</td>\n",
       "    </tr>\n",
       "  </tbody>\n",
       "</table>\n",
       "<p>599 rows × 1 columns</p>\n",
       "</div>"
      ],
      "text/plain": [
       "     0\n",
       "0    1\n",
       "1    0\n",
       "2    1\n",
       "3    0\n",
       "4    1\n",
       "..  ..\n",
       "594  0\n",
       "595  1\n",
       "596  0\n",
       "597  0\n",
       "598  1\n",
       "\n",
       "[599 rows x 1 columns]"
      ]
     },
     "execution_count": 41,
     "metadata": {},
     "output_type": "execute_result"
    }
   ],
   "source": [
    "col = {'0' : 'Sepssis'}\n",
    "y_encoded_.rename(col, axis = 1)"
   ]
  },
  {
   "cell_type": "code",
   "execution_count": 42,
   "metadata": {
    "id": "DYNLCxt8aJLP"
   },
   "outputs": [],
   "source": [
    "train_ready = pd.concat([X_scaled_, y_encoded_ ], axis=1)"
   ]
  },
  {
   "cell_type": "code",
   "execution_count": 43,
   "metadata": {
    "colab": {
     "base_uri": "https://localhost:8080/",
     "height": 206
    },
    "id": "6WJUeai1aJLQ",
    "outputId": "99316621-248f-4e38-e7ac-0b286bc12bf7"
   },
   "outputs": [
    {
     "data": {
      "text/html": [
       "<div>\n",
       "<style scoped>\n",
       "    .dataframe tbody tr th:only-of-type {\n",
       "        vertical-align: middle;\n",
       "    }\n",
       "\n",
       "    .dataframe tbody tr th {\n",
       "        vertical-align: top;\n",
       "    }\n",
       "\n",
       "    .dataframe thead th {\n",
       "        text-align: right;\n",
       "    }\n",
       "</style>\n",
       "<table border=\"1\" class=\"dataframe\">\n",
       "  <thead>\n",
       "    <tr style=\"text-align: right;\">\n",
       "      <th></th>\n",
       "      <th>0</th>\n",
       "      <th>1</th>\n",
       "      <th>2</th>\n",
       "      <th>3</th>\n",
       "      <th>4</th>\n",
       "      <th>5</th>\n",
       "      <th>6</th>\n",
       "      <th>7</th>\n",
       "      <th>8</th>\n",
       "      <th>0</th>\n",
       "    </tr>\n",
       "  </thead>\n",
       "  <tbody>\n",
       "    <tr>\n",
       "      <th>0</th>\n",
       "      <td>0.647402</td>\n",
       "      <td>0.852744</td>\n",
       "      <td>0.169109</td>\n",
       "      <td>0.902098</td>\n",
       "      <td>-0.682191</td>\n",
       "      <td>0.209955</td>\n",
       "      <td>0.432333</td>\n",
       "      <td>1.413836</td>\n",
       "      <td>-1.478570</td>\n",
       "      <td>1</td>\n",
       "    </tr>\n",
       "    <tr>\n",
       "      <th>1</th>\n",
       "      <td>-0.840679</td>\n",
       "      <td>-1.076512</td>\n",
       "      <td>-0.141457</td>\n",
       "      <td>0.527197</td>\n",
       "      <td>-0.682191</td>\n",
       "      <td>-0.664876</td>\n",
       "      <td>-0.386002</td>\n",
       "      <td>-0.193804</td>\n",
       "      <td>-1.478570</td>\n",
       "      <td>0</td>\n",
       "    </tr>\n",
       "    <tr>\n",
       "      <th>2</th>\n",
       "      <td>1.242635</td>\n",
       "      <td>1.924553</td>\n",
       "      <td>-0.244979</td>\n",
       "      <td>-1.284822</td>\n",
       "      <td>-0.682191</td>\n",
       "      <td>-1.077297</td>\n",
       "      <td>0.565757</td>\n",
       "      <td>-0.109191</td>\n",
       "      <td>0.676329</td>\n",
       "      <td>1</td>\n",
       "    </tr>\n",
       "    <tr>\n",
       "      <th>3</th>\n",
       "      <td>-0.840679</td>\n",
       "      <td>-0.954020</td>\n",
       "      <td>-0.141457</td>\n",
       "      <td>0.152297</td>\n",
       "      <td>0.124823</td>\n",
       "      <td>-0.477412</td>\n",
       "      <td>-0.931558</td>\n",
       "      <td>-1.039930</td>\n",
       "      <td>0.676329</td>\n",
       "      <td>0</td>\n",
       "    </tr>\n",
       "    <tr>\n",
       "      <th>4</th>\n",
       "      <td>-1.138295</td>\n",
       "      <td>0.515890</td>\n",
       "      <td>-1.487246</td>\n",
       "      <td>0.902098</td>\n",
       "      <td>0.760132</td>\n",
       "      <td>1.397227</td>\n",
       "      <td>5.357163</td>\n",
       "      <td>-0.024579</td>\n",
       "      <td>0.676329</td>\n",
       "      <td>1</td>\n",
       "    </tr>\n",
       "  </tbody>\n",
       "</table>\n",
       "</div>"
      ],
      "text/plain": [
       "          0         1         2         3         4         5         6  \\\n",
       "0  0.647402  0.852744  0.169109  0.902098 -0.682191  0.209955  0.432333   \n",
       "1 -0.840679 -1.076512 -0.141457  0.527197 -0.682191 -0.664876 -0.386002   \n",
       "2  1.242635  1.924553 -0.244979 -1.284822 -0.682191 -1.077297  0.565757   \n",
       "3 -0.840679 -0.954020 -0.141457  0.152297  0.124823 -0.477412 -0.931558   \n",
       "4 -1.138295  0.515890 -1.487246  0.902098  0.760132  1.397227  5.357163   \n",
       "\n",
       "          7         8  0  \n",
       "0  1.413836 -1.478570  1  \n",
       "1 -0.193804 -1.478570  0  \n",
       "2 -0.109191  0.676329  1  \n",
       "3 -1.039930  0.676329  0  \n",
       "4 -0.024579  0.676329  1  "
      ]
     },
     "execution_count": 43,
     "metadata": {},
     "output_type": "execute_result"
    }
   ],
   "source": [
    "train_ready.head()"
   ]
  },
  {
   "cell_type": "code",
   "execution_count": 44,
   "metadata": {
    "id": "J0-2VqRpaJLQ"
   },
   "outputs": [],
   "source": [
    "cols2 = {\n",
    "'0' : 'ID',\n",
    "'1' : 'PlasmaGlucose',\n",
    "'2' : 'Blood.W.Result-1',\n",
    "'3' : 'BloodPressure',\n",
    "'4' : 'Blood.W.Result-2',\n",
    "'5' : 'Blood.W.Result-3',\n",
    "'6' : 'BMI',\n",
    "'7' : 'Blood.W.Result-4',\n",
    "'8' : 'Age',\n",
    "'0' : 'Insurance'\n",
    "        }"
   ]
  },
  {
   "cell_type": "code",
   "execution_count": 45,
   "metadata": {
    "colab": {
     "base_uri": "https://localhost:8080/",
     "height": 424
    },
    "id": "CGOGvPDeaJLQ",
    "outputId": "c4eb06ef-0e3a-43e9-f6d7-818a6c8b43f4"
   },
   "outputs": [
    {
     "data": {
      "text/html": [
       "<div>\n",
       "<style scoped>\n",
       "    .dataframe tbody tr th:only-of-type {\n",
       "        vertical-align: middle;\n",
       "    }\n",
       "\n",
       "    .dataframe tbody tr th {\n",
       "        vertical-align: top;\n",
       "    }\n",
       "\n",
       "    .dataframe thead th {\n",
       "        text-align: right;\n",
       "    }\n",
       "</style>\n",
       "<table border=\"1\" class=\"dataframe\">\n",
       "  <thead>\n",
       "    <tr style=\"text-align: right;\">\n",
       "      <th></th>\n",
       "      <th>0</th>\n",
       "      <th>1</th>\n",
       "      <th>2</th>\n",
       "      <th>3</th>\n",
       "      <th>4</th>\n",
       "      <th>5</th>\n",
       "      <th>6</th>\n",
       "      <th>7</th>\n",
       "      <th>8</th>\n",
       "      <th>0</th>\n",
       "    </tr>\n",
       "  </thead>\n",
       "  <tbody>\n",
       "    <tr>\n",
       "      <th>0</th>\n",
       "      <td>0.647402</td>\n",
       "      <td>0.852744</td>\n",
       "      <td>0.169109</td>\n",
       "      <td>0.902098</td>\n",
       "      <td>-0.682191</td>\n",
       "      <td>0.209955</td>\n",
       "      <td>0.432333</td>\n",
       "      <td>1.413836</td>\n",
       "      <td>-1.478570</td>\n",
       "      <td>1</td>\n",
       "    </tr>\n",
       "    <tr>\n",
       "      <th>1</th>\n",
       "      <td>-0.840679</td>\n",
       "      <td>-1.076512</td>\n",
       "      <td>-0.141457</td>\n",
       "      <td>0.527197</td>\n",
       "      <td>-0.682191</td>\n",
       "      <td>-0.664876</td>\n",
       "      <td>-0.386002</td>\n",
       "      <td>-0.193804</td>\n",
       "      <td>-1.478570</td>\n",
       "      <td>0</td>\n",
       "    </tr>\n",
       "    <tr>\n",
       "      <th>2</th>\n",
       "      <td>1.242635</td>\n",
       "      <td>1.924553</td>\n",
       "      <td>-0.244979</td>\n",
       "      <td>-1.284822</td>\n",
       "      <td>-0.682191</td>\n",
       "      <td>-1.077297</td>\n",
       "      <td>0.565757</td>\n",
       "      <td>-0.109191</td>\n",
       "      <td>0.676329</td>\n",
       "      <td>1</td>\n",
       "    </tr>\n",
       "    <tr>\n",
       "      <th>3</th>\n",
       "      <td>-0.840679</td>\n",
       "      <td>-0.954020</td>\n",
       "      <td>-0.141457</td>\n",
       "      <td>0.152297</td>\n",
       "      <td>0.124823</td>\n",
       "      <td>-0.477412</td>\n",
       "      <td>-0.931558</td>\n",
       "      <td>-1.039930</td>\n",
       "      <td>0.676329</td>\n",
       "      <td>0</td>\n",
       "    </tr>\n",
       "    <tr>\n",
       "      <th>4</th>\n",
       "      <td>-1.138295</td>\n",
       "      <td>0.515890</td>\n",
       "      <td>-1.487246</td>\n",
       "      <td>0.902098</td>\n",
       "      <td>0.760132</td>\n",
       "      <td>1.397227</td>\n",
       "      <td>5.357163</td>\n",
       "      <td>-0.024579</td>\n",
       "      <td>0.676329</td>\n",
       "      <td>1</td>\n",
       "    </tr>\n",
       "    <tr>\n",
       "      <th>...</th>\n",
       "      <td>...</td>\n",
       "      <td>...</td>\n",
       "      <td>...</td>\n",
       "      <td>...</td>\n",
       "      <td>...</td>\n",
       "      <td>...</td>\n",
       "      <td>...</td>\n",
       "      <td>...</td>\n",
       "      <td>...</td>\n",
       "      <td>...</td>\n",
       "    </tr>\n",
       "    <tr>\n",
       "      <th>594</th>\n",
       "      <td>0.647402</td>\n",
       "      <td>0.087166</td>\n",
       "      <td>0.169109</td>\n",
       "      <td>1.526932</td>\n",
       "      <td>1.292417</td>\n",
       "      <td>0.209955</td>\n",
       "      <td>0.746620</td>\n",
       "      <td>0.060034</td>\n",
       "      <td>-1.478570</td>\n",
       "      <td>0</td>\n",
       "    </tr>\n",
       "    <tr>\n",
       "      <th>595</th>\n",
       "      <td>-1.138295</td>\n",
       "      <td>2.077668</td>\n",
       "      <td>0.686720</td>\n",
       "      <td>-0.410054</td>\n",
       "      <td>0.906081</td>\n",
       "      <td>0.009994</td>\n",
       "      <td>0.595406</td>\n",
       "      <td>-0.955317</td>\n",
       "      <td>0.676329</td>\n",
       "      <td>1</td>\n",
       "    </tr>\n",
       "    <tr>\n",
       "      <th>596</th>\n",
       "      <td>-1.138295</td>\n",
       "      <td>-1.627728</td>\n",
       "      <td>0.376154</td>\n",
       "      <td>-1.284822</td>\n",
       "      <td>-0.682191</td>\n",
       "      <td>1.672174</td>\n",
       "      <td>-0.851503</td>\n",
       "      <td>1.075385</td>\n",
       "      <td>0.676329</td>\n",
       "      <td>0</td>\n",
       "    </tr>\n",
       "    <tr>\n",
       "      <th>597</th>\n",
       "      <td>-0.840679</td>\n",
       "      <td>-0.954020</td>\n",
       "      <td>-2.315423</td>\n",
       "      <td>-0.097637</td>\n",
       "      <td>-0.467559</td>\n",
       "      <td>-0.514905</td>\n",
       "      <td>0.230714</td>\n",
       "      <td>-1.039930</td>\n",
       "      <td>-1.478570</td>\n",
       "      <td>0</td>\n",
       "    </tr>\n",
       "    <tr>\n",
       "      <th>598</th>\n",
       "      <td>-0.840679</td>\n",
       "      <td>1.618322</td>\n",
       "      <td>0.272631</td>\n",
       "      <td>-1.284822</td>\n",
       "      <td>-0.682191</td>\n",
       "      <td>0.609878</td>\n",
       "      <td>-1.165791</td>\n",
       "      <td>0.398484</td>\n",
       "      <td>0.676329</td>\n",
       "      <td>1</td>\n",
       "    </tr>\n",
       "  </tbody>\n",
       "</table>\n",
       "<p>599 rows × 10 columns</p>\n",
       "</div>"
      ],
      "text/plain": [
       "            0         1         2         3         4         5         6  \\\n",
       "0    0.647402  0.852744  0.169109  0.902098 -0.682191  0.209955  0.432333   \n",
       "1   -0.840679 -1.076512 -0.141457  0.527197 -0.682191 -0.664876 -0.386002   \n",
       "2    1.242635  1.924553 -0.244979 -1.284822 -0.682191 -1.077297  0.565757   \n",
       "3   -0.840679 -0.954020 -0.141457  0.152297  0.124823 -0.477412 -0.931558   \n",
       "4   -1.138295  0.515890 -1.487246  0.902098  0.760132  1.397227  5.357163   \n",
       "..        ...       ...       ...       ...       ...       ...       ...   \n",
       "594  0.647402  0.087166  0.169109  1.526932  1.292417  0.209955  0.746620   \n",
       "595 -1.138295  2.077668  0.686720 -0.410054  0.906081  0.009994  0.595406   \n",
       "596 -1.138295 -1.627728  0.376154 -1.284822 -0.682191  1.672174 -0.851503   \n",
       "597 -0.840679 -0.954020 -2.315423 -0.097637 -0.467559 -0.514905  0.230714   \n",
       "598 -0.840679  1.618322  0.272631 -1.284822 -0.682191  0.609878 -1.165791   \n",
       "\n",
       "            7         8  0  \n",
       "0    1.413836 -1.478570  1  \n",
       "1   -0.193804 -1.478570  0  \n",
       "2   -0.109191  0.676329  1  \n",
       "3   -1.039930  0.676329  0  \n",
       "4   -0.024579  0.676329  1  \n",
       "..        ...       ... ..  \n",
       "594  0.060034 -1.478570  0  \n",
       "595 -0.955317  0.676329  1  \n",
       "596  1.075385  0.676329  0  \n",
       "597 -1.039930 -1.478570  0  \n",
       "598  0.398484  0.676329  1  \n",
       "\n",
       "[599 rows x 10 columns]"
      ]
     },
     "execution_count": 45,
     "metadata": {},
     "output_type": "execute_result"
    }
   ],
   "source": [
    "train_ready.rename(cols2, axis = 1)"
   ]
  },
  {
   "cell_type": "markdown",
   "metadata": {
    "id": "DtS7HuhvcOQD"
   },
   "source": [
    "### **SELECTING TARGET AND FEATURES**"
   ]
  },
  {
   "cell_type": "code",
   "execution_count": 46,
   "metadata": {
    "colab": {
     "base_uri": "https://localhost:8080/",
     "height": 206
    },
    "id": "RApNI4PVaJLR",
    "outputId": "11de1700-1537-48df-9d05-b7c21d97cfc2"
   },
   "outputs": [
    {
     "data": {
      "text/html": [
       "<div>\n",
       "<style scoped>\n",
       "    .dataframe tbody tr th:only-of-type {\n",
       "        vertical-align: middle;\n",
       "    }\n",
       "\n",
       "    .dataframe tbody tr th {\n",
       "        vertical-align: top;\n",
       "    }\n",
       "\n",
       "    .dataframe thead th {\n",
       "        text-align: right;\n",
       "    }\n",
       "</style>\n",
       "<table border=\"1\" class=\"dataframe\">\n",
       "  <thead>\n",
       "    <tr style=\"text-align: right;\">\n",
       "      <th></th>\n",
       "      <th>0</th>\n",
       "      <th>1</th>\n",
       "      <th>2</th>\n",
       "      <th>3</th>\n",
       "      <th>4</th>\n",
       "      <th>5</th>\n",
       "      <th>6</th>\n",
       "      <th>7</th>\n",
       "      <th>8</th>\n",
       "    </tr>\n",
       "  </thead>\n",
       "  <tbody>\n",
       "    <tr>\n",
       "      <th>0</th>\n",
       "      <td>0.647402</td>\n",
       "      <td>0.852744</td>\n",
       "      <td>0.169109</td>\n",
       "      <td>0.902098</td>\n",
       "      <td>-0.682191</td>\n",
       "      <td>0.209955</td>\n",
       "      <td>0.432333</td>\n",
       "      <td>1.413836</td>\n",
       "      <td>-1.478570</td>\n",
       "    </tr>\n",
       "    <tr>\n",
       "      <th>1</th>\n",
       "      <td>-0.840679</td>\n",
       "      <td>-1.076512</td>\n",
       "      <td>-0.141457</td>\n",
       "      <td>0.527197</td>\n",
       "      <td>-0.682191</td>\n",
       "      <td>-0.664876</td>\n",
       "      <td>-0.386002</td>\n",
       "      <td>-0.193804</td>\n",
       "      <td>-1.478570</td>\n",
       "    </tr>\n",
       "    <tr>\n",
       "      <th>2</th>\n",
       "      <td>1.242635</td>\n",
       "      <td>1.924553</td>\n",
       "      <td>-0.244979</td>\n",
       "      <td>-1.284822</td>\n",
       "      <td>-0.682191</td>\n",
       "      <td>-1.077297</td>\n",
       "      <td>0.565757</td>\n",
       "      <td>-0.109191</td>\n",
       "      <td>0.676329</td>\n",
       "    </tr>\n",
       "    <tr>\n",
       "      <th>3</th>\n",
       "      <td>-0.840679</td>\n",
       "      <td>-0.954020</td>\n",
       "      <td>-0.141457</td>\n",
       "      <td>0.152297</td>\n",
       "      <td>0.124823</td>\n",
       "      <td>-0.477412</td>\n",
       "      <td>-0.931558</td>\n",
       "      <td>-1.039930</td>\n",
       "      <td>0.676329</td>\n",
       "    </tr>\n",
       "    <tr>\n",
       "      <th>4</th>\n",
       "      <td>-1.138295</td>\n",
       "      <td>0.515890</td>\n",
       "      <td>-1.487246</td>\n",
       "      <td>0.902098</td>\n",
       "      <td>0.760132</td>\n",
       "      <td>1.397227</td>\n",
       "      <td>5.357163</td>\n",
       "      <td>-0.024579</td>\n",
       "      <td>0.676329</td>\n",
       "    </tr>\n",
       "  </tbody>\n",
       "</table>\n",
       "</div>"
      ],
      "text/plain": [
       "          0         1         2         3         4         5         6  \\\n",
       "0  0.647402  0.852744  0.169109  0.902098 -0.682191  0.209955  0.432333   \n",
       "1 -0.840679 -1.076512 -0.141457  0.527197 -0.682191 -0.664876 -0.386002   \n",
       "2  1.242635  1.924553 -0.244979 -1.284822 -0.682191 -1.077297  0.565757   \n",
       "3 -0.840679 -0.954020 -0.141457  0.152297  0.124823 -0.477412 -0.931558   \n",
       "4 -1.138295  0.515890 -1.487246  0.902098  0.760132  1.397227  5.357163   \n",
       "\n",
       "          7         8  \n",
       "0  1.413836 -1.478570  \n",
       "1 -0.193804 -1.478570  \n",
       "2 -0.109191  0.676329  \n",
       "3 -1.039930  0.676329  \n",
       "4 -0.024579  0.676329  "
      ]
     },
     "execution_count": 46,
     "metadata": {},
     "output_type": "execute_result"
    }
   ],
   "source": [
    "# Select features using slicing\n",
    "X_train = train_ready.iloc[:, :-1]\n",
    "\n",
    "X_train.head()"
   ]
  },
  {
   "cell_type": "code",
   "execution_count": 47,
   "metadata": {
    "colab": {
     "base_uri": "https://localhost:8080/",
     "height": 206
    },
    "id": "jYLLM1MIbcWt",
    "outputId": "01021100-3ee6-4854-b792-3cac6dc18ce3"
   },
   "outputs": [
    {
     "data": {
      "text/html": [
       "<div>\n",
       "<style scoped>\n",
       "    .dataframe tbody tr th:only-of-type {\n",
       "        vertical-align: middle;\n",
       "    }\n",
       "\n",
       "    .dataframe tbody tr th {\n",
       "        vertical-align: top;\n",
       "    }\n",
       "\n",
       "    .dataframe thead th {\n",
       "        text-align: right;\n",
       "    }\n",
       "</style>\n",
       "<table border=\"1\" class=\"dataframe\">\n",
       "  <thead>\n",
       "    <tr style=\"text-align: right;\">\n",
       "      <th></th>\n",
       "      <th>0</th>\n",
       "    </tr>\n",
       "  </thead>\n",
       "  <tbody>\n",
       "    <tr>\n",
       "      <th>0</th>\n",
       "      <td>1</td>\n",
       "    </tr>\n",
       "    <tr>\n",
       "      <th>1</th>\n",
       "      <td>0</td>\n",
       "    </tr>\n",
       "    <tr>\n",
       "      <th>2</th>\n",
       "      <td>1</td>\n",
       "    </tr>\n",
       "    <tr>\n",
       "      <th>3</th>\n",
       "      <td>0</td>\n",
       "    </tr>\n",
       "    <tr>\n",
       "      <th>4</th>\n",
       "      <td>1</td>\n",
       "    </tr>\n",
       "  </tbody>\n",
       "</table>\n",
       "</div>"
      ],
      "text/plain": [
       "   0\n",
       "0  1\n",
       "1  0\n",
       "2  1\n",
       "3  0\n",
       "4  1"
      ]
     },
     "execution_count": 47,
     "metadata": {},
     "output_type": "execute_result"
    }
   ],
   "source": [
    "# Selecting the target using target\n",
    "y_train = pd.DataFrame(train_ready.iloc[:, -1])\n",
    "\n",
    "y_train.head()"
   ]
  },
  {
   "cell_type": "code",
   "execution_count": 48,
   "metadata": {
    "id": "51y99uKqaJLR"
   },
   "outputs": [],
   "source": [
    "x_train, x_test, y_train, y_test = train_test_split (X_train, y_train, test_size=0.2, random_state=42) # stratify = y_train)"
   ]
  },
  {
   "cell_type": "code",
   "execution_count": 49,
   "metadata": {
    "colab": {
     "base_uri": "https://localhost:8080/"
    },
    "id": "Gql7rr9QaJLS",
    "outputId": "daaaa0bc-5741-4598-ca82-7c41e6077dcc"
   },
   "outputs": [
    {
     "name": "stdout",
     "output_type": "stream",
     "text": [
      "x_train shape (479, 9)\n",
      "x_test shape (120, 9)\n",
      "y_train shape (479, 1)\n",
      "y_test shape (120, 1)\n"
     ]
    }
   ],
   "source": [
    "print(\"x_train shape\", x_train.shape)\n",
    "print('x_test shape', x_test.shape)\n",
    "print('y_train shape', y_train.shape)\n",
    "print('y_test shape', y_test.shape)"
   ]
  },
  {
   "cell_type": "markdown",
   "metadata": {
    "id": "7sXLAxg4gfUh"
   },
   "source": [
    "### **MODEL SELECTION, FITTING, PREDICTION, EVAL**"
   ]
  },
  {
   "cell_type": "code",
   "execution_count": 50,
   "metadata": {
    "id": "GrdWobm0ecLb"
   },
   "outputs": [],
   "source": [
    "# instance creation\n",
    "logistic = LogisticRegression ()           # 1\n",
    "knn = KNeighborsClassifier ()              # 2\n",
    "decisiontree = DecisionTreeClassifier ()   # 3\n",
    "random = RandomForestClassifier ()         # 4\n",
    "gradient = GradientBoostingClassifier ()   # 5"
   ]
  },
  {
   "cell_type": "code",
   "execution_count": 51,
   "metadata": {
    "colab": {
     "base_uri": "https://localhost:8080/",
     "height": 75
    },
    "id": "RVzNKp1_gnmN",
    "outputId": "6f6dd5ba-41db-44ac-9731-c34c4e3ed2c2"
   },
   "outputs": [
    {
     "data": {
      "text/html": [
       "<style>#sk-container-id-1 {color: black;background-color: white;}#sk-container-id-1 pre{padding: 0;}#sk-container-id-1 div.sk-toggleable {background-color: white;}#sk-container-id-1 label.sk-toggleable__label {cursor: pointer;display: block;width: 100%;margin-bottom: 0;padding: 0.3em;box-sizing: border-box;text-align: center;}#sk-container-id-1 label.sk-toggleable__label-arrow:before {content: \"▸\";float: left;margin-right: 0.25em;color: #696969;}#sk-container-id-1 label.sk-toggleable__label-arrow:hover:before {color: black;}#sk-container-id-1 div.sk-estimator:hover label.sk-toggleable__label-arrow:before {color: black;}#sk-container-id-1 div.sk-toggleable__content {max-height: 0;max-width: 0;overflow: hidden;text-align: left;background-color: #f0f8ff;}#sk-container-id-1 div.sk-toggleable__content pre {margin: 0.2em;color: black;border-radius: 0.25em;background-color: #f0f8ff;}#sk-container-id-1 input.sk-toggleable__control:checked~div.sk-toggleable__content {max-height: 200px;max-width: 100%;overflow: auto;}#sk-container-id-1 input.sk-toggleable__control:checked~label.sk-toggleable__label-arrow:before {content: \"▾\";}#sk-container-id-1 div.sk-estimator input.sk-toggleable__control:checked~label.sk-toggleable__label {background-color: #d4ebff;}#sk-container-id-1 div.sk-label input.sk-toggleable__control:checked~label.sk-toggleable__label {background-color: #d4ebff;}#sk-container-id-1 input.sk-hidden--visually {border: 0;clip: rect(1px 1px 1px 1px);clip: rect(1px, 1px, 1px, 1px);height: 1px;margin: -1px;overflow: hidden;padding: 0;position: absolute;width: 1px;}#sk-container-id-1 div.sk-estimator {font-family: monospace;background-color: #f0f8ff;border: 1px dotted black;border-radius: 0.25em;box-sizing: border-box;margin-bottom: 0.5em;}#sk-container-id-1 div.sk-estimator:hover {background-color: #d4ebff;}#sk-container-id-1 div.sk-parallel-item::after {content: \"\";width: 100%;border-bottom: 1px solid gray;flex-grow: 1;}#sk-container-id-1 div.sk-label:hover label.sk-toggleable__label {background-color: #d4ebff;}#sk-container-id-1 div.sk-serial::before {content: \"\";position: absolute;border-left: 1px solid gray;box-sizing: border-box;top: 0;bottom: 0;left: 50%;z-index: 0;}#sk-container-id-1 div.sk-serial {display: flex;flex-direction: column;align-items: center;background-color: white;padding-right: 0.2em;padding-left: 0.2em;position: relative;}#sk-container-id-1 div.sk-item {position: relative;z-index: 1;}#sk-container-id-1 div.sk-parallel {display: flex;align-items: stretch;justify-content: center;background-color: white;position: relative;}#sk-container-id-1 div.sk-item::before, #sk-container-id-1 div.sk-parallel-item::before {content: \"\";position: absolute;border-left: 1px solid gray;box-sizing: border-box;top: 0;bottom: 0;left: 50%;z-index: -1;}#sk-container-id-1 div.sk-parallel-item {display: flex;flex-direction: column;z-index: 1;position: relative;background-color: white;}#sk-container-id-1 div.sk-parallel-item:first-child::after {align-self: flex-end;width: 50%;}#sk-container-id-1 div.sk-parallel-item:last-child::after {align-self: flex-start;width: 50%;}#sk-container-id-1 div.sk-parallel-item:only-child::after {width: 0;}#sk-container-id-1 div.sk-dashed-wrapped {border: 1px dashed gray;margin: 0 0.4em 0.5em 0.4em;box-sizing: border-box;padding-bottom: 0.4em;background-color: white;}#sk-container-id-1 div.sk-label label {font-family: monospace;font-weight: bold;display: inline-block;line-height: 1.2em;}#sk-container-id-1 div.sk-label-container {text-align: center;}#sk-container-id-1 div.sk-container {/* jupyter's `normalize.less` sets `[hidden] { display: none; }` but bootstrap.min.css set `[hidden] { display: none !important; }` so we also need the `!important` here to be able to override the default hidden behavior on the sphinx rendered scikit-learn.org. See: https://github.com/scikit-learn/scikit-learn/issues/21755 */display: inline-block !important;position: relative;}#sk-container-id-1 div.sk-text-repr-fallback {display: none;}</style><div id=\"sk-container-id-1\" class=\"sk-top-container\"><div class=\"sk-text-repr-fallback\"><pre>GradientBoostingClassifier()</pre><b>In a Jupyter environment, please rerun this cell to show the HTML representation or trust the notebook. <br />On GitHub, the HTML representation is unable to render, please try loading this page with nbviewer.org.</b></div><div class=\"sk-container\" hidden><div class=\"sk-item\"><div class=\"sk-estimator sk-toggleable\"><input class=\"sk-toggleable__control sk-hidden--visually\" id=\"sk-estimator-id-1\" type=\"checkbox\" checked><label for=\"sk-estimator-id-1\" class=\"sk-toggleable__label sk-toggleable__label-arrow\">GradientBoostingClassifier</label><div class=\"sk-toggleable__content\"><pre>GradientBoostingClassifier()</pre></div></div></div></div></div>"
      ],
      "text/plain": [
       "GradientBoostingClassifier()"
      ]
     },
     "execution_count": 51,
     "metadata": {},
     "output_type": "execute_result"
    }
   ],
   "source": [
    "# fit all models to the train and eval\n",
    "logistic.fit(x_train, y_train)\n",
    "knn.fit(x_train, y_train)\n",
    "decisiontree.fit(x_train, y_train)\n",
    "random.fit(x_train, y_train)\n",
    "gradient.fit(x_train, y_train)\n"
   ]
  },
  {
   "cell_type": "code",
   "execution_count": 52,
   "metadata": {
    "id": "cgyFfqT1hcex"
   },
   "outputs": [],
   "source": [
    "# Make predictions\n",
    "logistc_pred = (logistic.fit(x_train, y_train)).predict(x_test)\n",
    "knn_pred = (knn.fit(x_train, y_train)).predict(x_test)\n",
    "decisiontree_pred = (decisiontree.fit(x_train, y_train)).predict(x_test)\n",
    "random_pred = (random.fit(x_train, y_train)).predict(x_test)\n",
    "gradient_pred = (gradient.fit(x_train, y_train)).predict(x_test)\n"
   ]
  },
  {
   "cell_type": "markdown",
   "metadata": {
    "id": "ithkIjUimTDm"
   },
   "source": [
    "### Make Evaluations to select the best model"
   ]
  },
  {
   "cell_type": "code",
   "execution_count": 53,
   "metadata": {
    "id": "Blti1O-DkJeb"
   },
   "outputs": [],
   "source": [
    "from sklearn.metrics import r2_score, mean_squared_error, mean_squared_log_error,mean_absolute_error, accuracy_score"
   ]
  },
  {
   "cell_type": "code",
   "execution_count": 54,
   "metadata": {
    "id": "hwXNH17NmSEc"
   },
   "outputs": [],
   "source": [
    "# for logistic\n",
    "r21 = r2_score( y_test, logistc_pred)\n",
    "mse1 =mean_squared_error( y_test, logistc_pred)\n",
    "mae1 = mean_absolute_error( y_test, logistc_pred)\n",
    "accuracy1 = accuracy_score(y_test, logistc_pred)\n",
    "\n",
    "# for knn\n",
    "r22 = r2_score( y_test, knn_pred)\n",
    "mse2 =mean_squared_error( y_test, knn_pred)\n",
    "mae2 = mean_absolute_error( y_test, knn_pred)\n",
    "accuracy2 = accuracy_score(y_test, knn_pred)\n",
    "\n",
    "# for decision tree\n",
    "r23 = r2_score( y_test, decisiontree_pred)\n",
    "mse3 =mean_squared_error( y_test, decisiontree_pred)\n",
    "mae3 = mean_absolute_error( y_test, decisiontree_pred)\n",
    "accuracy3 = accuracy_score(y_test, decisiontree_pred)\n",
    "\n",
    "# for random\n",
    "r24 = r2_score( y_test, random_pred)\n",
    "mse4 =mean_squared_error( y_test, random_pred)\n",
    "mae4 = mean_absolute_error( y_test, random_pred)\n",
    "accuracy4 = accuracy_score(y_test, random_pred)\n",
    "\n",
    "# gradient\n",
    "r25 = r2_score( y_test, gradient_pred)\n",
    "mse5 =mean_squared_error( y_test, gradient_pred)\n",
    "mae5 = mean_absolute_error( y_test, gradient_pred)\n",
    "accuracy5 = accuracy_score(y_test, gradient_pred)"
   ]
  },
  {
   "cell_type": "code",
   "execution_count": 55,
   "metadata": {
    "colab": {
     "base_uri": "https://localhost:8080/",
     "height": 206
    },
    "id": "jVQRw2jVnJhm",
    "outputId": "1b63edcd-0415-4e4e-e56c-b6b1cdc606d1"
   },
   "outputs": [
    {
     "data": {
      "text/html": [
       "<div>\n",
       "<style scoped>\n",
       "    .dataframe tbody tr th:only-of-type {\n",
       "        vertical-align: middle;\n",
       "    }\n",
       "\n",
       "    .dataframe tbody tr th {\n",
       "        vertical-align: top;\n",
       "    }\n",
       "\n",
       "    .dataframe thead th {\n",
       "        text-align: right;\n",
       "    }\n",
       "</style>\n",
       "<table border=\"1\" class=\"dataframe\">\n",
       "  <thead>\n",
       "    <tr style=\"text-align: right;\">\n",
       "      <th></th>\n",
       "      <th>model</th>\n",
       "      <th>R2_SCORE</th>\n",
       "      <th>MSE</th>\n",
       "      <th>MAE</th>\n",
       "      <th>accuracy</th>\n",
       "    </tr>\n",
       "  </thead>\n",
       "  <tbody>\n",
       "    <tr>\n",
       "      <th>0</th>\n",
       "      <td>Linear_Regression</td>\n",
       "      <td>-0.123528</td>\n",
       "      <td>0.258333</td>\n",
       "      <td>0.258333</td>\n",
       "      <td>0.741667</td>\n",
       "    </tr>\n",
       "    <tr>\n",
       "      <th>1</th>\n",
       "      <td>Knn</td>\n",
       "      <td>-0.485956</td>\n",
       "      <td>0.341667</td>\n",
       "      <td>0.341667</td>\n",
       "      <td>0.658333</td>\n",
       "    </tr>\n",
       "    <tr>\n",
       "      <th>2</th>\n",
       "      <td>decision tree</td>\n",
       "      <td>-0.159770</td>\n",
       "      <td>0.266667</td>\n",
       "      <td>0.266667</td>\n",
       "      <td>0.733333</td>\n",
       "    </tr>\n",
       "    <tr>\n",
       "      <th>3</th>\n",
       "      <td>Random forest</td>\n",
       "      <td>-0.159770</td>\n",
       "      <td>0.266667</td>\n",
       "      <td>0.266667</td>\n",
       "      <td>0.733333</td>\n",
       "    </tr>\n",
       "    <tr>\n",
       "      <th>4</th>\n",
       "      <td>Gradient</td>\n",
       "      <td>-0.014799</td>\n",
       "      <td>0.233333</td>\n",
       "      <td>0.233333</td>\n",
       "      <td>0.766667</td>\n",
       "    </tr>\n",
       "  </tbody>\n",
       "</table>\n",
       "</div>"
      ],
      "text/plain": [
       "               model  R2_SCORE       MSE       MAE  accuracy\n",
       "0  Linear_Regression -0.123528  0.258333  0.258333  0.741667\n",
       "1                Knn -0.485956  0.341667  0.341667  0.658333\n",
       "2      decision tree -0.159770  0.266667  0.266667  0.733333\n",
       "3      Random forest -0.159770  0.266667  0.266667  0.733333\n",
       "4           Gradient -0.014799  0.233333  0.233333  0.766667"
      ]
     },
     "execution_count": 55,
     "metadata": {},
     "output_type": "execute_result"
    }
   ],
   "source": [
    "metrics1 = pd.DataFrame ([['Linear_Regression', r21, mse1, mae1, accuracy1]], columns=['model', 'R2_SCORE', 'MSE', 'MAE', 'accuracy'])\n",
    "metrics2 = pd.DataFrame ([['Knn', r22, mse2, mae2, accuracy2]], columns=['model', 'R2_SCORE', 'MSE', 'MAE', 'accuracy'])\n",
    "metrics3 = pd.DataFrame ([['decision tree', r23, mse3, mae3, accuracy3]], columns=['model', 'R2_SCORE', 'MSE', 'MAE', 'accuracy'])\n",
    "metrics4 = pd.DataFrame ([['Random forest', r24, mse4, mae4, accuracy4]], columns=['model', 'R2_SCORE', 'MSE', 'MAE', 'accuracy'])\n",
    "metrics5 = pd.DataFrame ([['Gradient', r25, mse5, mae5, accuracy5]], columns=['model', 'R2_SCORE', 'MSE', 'MAE', 'accuracy'])\n",
    "\n",
    "metrics = metrics1.append([metrics2, metrics3, metrics4, metrics5], ignore_index=True)\n",
    "\n",
    "metrics"
   ]
  },
  {
   "cell_type": "markdown",
   "metadata": {
    "id": "UGNrKy9r9rTK"
   },
   "source": [
    "### **SAVE THE BEST MODEL I.e, Gradient Boosting**"
   ]
  },
  {
   "cell_type": "code",
   "execution_count": 56,
   "metadata": {
    "id": "a9KKJHz2-838"
   },
   "outputs": [],
   "source": [
    "model = gradient.fit(x_train, y_train)"
   ]
  },
  {
   "cell_type": "code",
   "execution_count": 57,
   "metadata": {
    "id": "ryn24-e7K0DO"
   },
   "outputs": [],
   "source": [
    "import joblib"
   ]
  },
  {
   "cell_type": "code",
   "execution_count": 58,
   "metadata": {
    "colab": {
     "base_uri": "https://localhost:8080/"
    },
    "id": "-qmYqyLBB1Wo",
    "outputId": "72548b4d-b6d5-4c03-8f2a-1e94e7de777f"
   },
   "outputs": [
    {
     "data": {
      "text/plain": [
       "['trained_model.joblib']"
      ]
     },
     "execution_count": 58,
     "metadata": {},
     "output_type": "execute_result"
    }
   ],
   "source": [
    "model_filename = \"trained_model.joblib\"\n",
    "joblib.dump(model, model_filename)"
   ]
  },
  {
   "cell_type": "code",
   "execution_count": 59,
   "metadata": {
    "colab": {
     "base_uri": "https://localhost:8080/",
     "height": 17
    },
    "id": "RR2X0JDH-89L",
    "outputId": "1bb0c594-349b-45a7-bff6-f38989fbfc02"
   },
   "outputs": [],
   "source": [
    "# from google.colab import files\n",
    "# files.download(model_filename)\n"
   ]
  },
  {
   "cell_type": "code",
   "execution_count": null,
   "metadata": {
    "id": "nG92iOFwMHvE"
   },
   "outputs": [],
   "source": []
  },
  {
   "cell_type": "code",
   "execution_count": null,
   "metadata": {
    "id": "cljEZibIMH3D"
   },
   "outputs": [],
   "source": []
  },
  {
   "cell_type": "markdown",
   "metadata": {
    "id": "h1wuLbwRC0QW"
   },
   "source": [
    "### **CONVERT TO PIPELINE**"
   ]
  },
  {
   "cell_type": "markdown",
   "metadata": {
    "id": "jd0CwM3mC-Bn"
   },
   "source": [
    "Steps\n",
    "\n",
    "\n",
    "*   Select from the dataframe,  x = (df.iloc[:, :-1]) and y=(df.iloc[:, -1])\n",
    "*   Scale x features using standard scaler instance , use label encoder on y target\n",
    "*   split the datasets, into train test and eval.  x_train, x_test, y_train, y_test = train_test_split (X_train, y_train, test_size=0.2, random_state=42)\n",
    "*   Fit a gradient boosting model\n",
    "\n"
   ]
  },
  {
   "cell_type": "code",
   "execution_count": 60,
   "metadata": {
    "id": "CCrTU23gHHQV"
   },
   "outputs": [],
   "source": [
    "#df = pd.read_csv('/content/drive/MyDrive/P6/Paitients_Files_Train.csv')\n",
    "df =pd.read_csv('C:\\\\Users\\\\user\\\\Downloads\\\\P6\\\\Paitients_Files_Train.csv')"
   ]
  },
  {
   "cell_type": "code",
   "execution_count": 61,
   "metadata": {
    "id": "WXV1JK-mHmPy"
   },
   "outputs": [],
   "source": [
    "df.drop('ID', axis=True, inplace = True)"
   ]
  },
  {
   "cell_type": "code",
   "execution_count": 62,
   "metadata": {
    "id": "0g25Kx749wOi"
   },
   "outputs": [],
   "source": [
    "from sklearn.pipeline import Pipeline\n",
    "from sklearn.compose import ColumnTransformer"
   ]
  },
  {
   "cell_type": "code",
   "execution_count": 63,
   "metadata": {
    "id": "NXK8ebrD9wsl"
   },
   "outputs": [],
   "source": [
    "from sklearn.pipeline import Pipeline\n",
    "\n",
    "# Select x and y\n",
    "x = df.iloc[:, :-1]\n",
    "y = df.iloc[:, -1]\n",
    "\n",
    "# Step 2: Scale x features using StandardScaler and encode y target using LabelEncoder\n",
    "scaler = StandardScaler()\n",
    "label_encoder = LabelEncoder()\n",
    "\n",
    "x_scaled = scaler.fit_transform(x)\n",
    "y_encoded = label_encoder.fit_transform(y)\n",
    "\n",
    "# Step 3: Split the datasets into train, test, and eval sets\n",
    "x_train, x_test, y_train, y_test = train_test_split(x_scaled, y_encoded, test_size=0.2, random_state=42)\n",
    "\n",
    "# Step 4: Fit a gradient boosting model\n",
    "gradient_boosting_model = GradientBoostingClassifier()\n",
    "\n",
    "# Step 5: Build the pipeline\n",
    "pipeline = Pipeline([\n",
    "    ('scaler', scaler),\n",
    "    ('label_encoder', label_encoder),\n",
    "    ('model', gradient_boosting_model)\n",
    "])\n",
    "\n",
    "\n"
   ]
  },
  {
   "cell_type": "code",
   "execution_count": 64,
   "metadata": {
    "colab": {
     "base_uri": "https://localhost:8080/",
     "height": 126
    },
    "id": "m8b9Ht8w9w0o",
    "outputId": "60ab99f1-551c-4944-87fc-e74856ab135c"
   },
   "outputs": [
    {
     "data": {
      "text/html": [
       "<style>#sk-container-id-2 {color: black;background-color: white;}#sk-container-id-2 pre{padding: 0;}#sk-container-id-2 div.sk-toggleable {background-color: white;}#sk-container-id-2 label.sk-toggleable__label {cursor: pointer;display: block;width: 100%;margin-bottom: 0;padding: 0.3em;box-sizing: border-box;text-align: center;}#sk-container-id-2 label.sk-toggleable__label-arrow:before {content: \"▸\";float: left;margin-right: 0.25em;color: #696969;}#sk-container-id-2 label.sk-toggleable__label-arrow:hover:before {color: black;}#sk-container-id-2 div.sk-estimator:hover label.sk-toggleable__label-arrow:before {color: black;}#sk-container-id-2 div.sk-toggleable__content {max-height: 0;max-width: 0;overflow: hidden;text-align: left;background-color: #f0f8ff;}#sk-container-id-2 div.sk-toggleable__content pre {margin: 0.2em;color: black;border-radius: 0.25em;background-color: #f0f8ff;}#sk-container-id-2 input.sk-toggleable__control:checked~div.sk-toggleable__content {max-height: 200px;max-width: 100%;overflow: auto;}#sk-container-id-2 input.sk-toggleable__control:checked~label.sk-toggleable__label-arrow:before {content: \"▾\";}#sk-container-id-2 div.sk-estimator input.sk-toggleable__control:checked~label.sk-toggleable__label {background-color: #d4ebff;}#sk-container-id-2 div.sk-label input.sk-toggleable__control:checked~label.sk-toggleable__label {background-color: #d4ebff;}#sk-container-id-2 input.sk-hidden--visually {border: 0;clip: rect(1px 1px 1px 1px);clip: rect(1px, 1px, 1px, 1px);height: 1px;margin: -1px;overflow: hidden;padding: 0;position: absolute;width: 1px;}#sk-container-id-2 div.sk-estimator {font-family: monospace;background-color: #f0f8ff;border: 1px dotted black;border-radius: 0.25em;box-sizing: border-box;margin-bottom: 0.5em;}#sk-container-id-2 div.sk-estimator:hover {background-color: #d4ebff;}#sk-container-id-2 div.sk-parallel-item::after {content: \"\";width: 100%;border-bottom: 1px solid gray;flex-grow: 1;}#sk-container-id-2 div.sk-label:hover label.sk-toggleable__label {background-color: #d4ebff;}#sk-container-id-2 div.sk-serial::before {content: \"\";position: absolute;border-left: 1px solid gray;box-sizing: border-box;top: 0;bottom: 0;left: 50%;z-index: 0;}#sk-container-id-2 div.sk-serial {display: flex;flex-direction: column;align-items: center;background-color: white;padding-right: 0.2em;padding-left: 0.2em;position: relative;}#sk-container-id-2 div.sk-item {position: relative;z-index: 1;}#sk-container-id-2 div.sk-parallel {display: flex;align-items: stretch;justify-content: center;background-color: white;position: relative;}#sk-container-id-2 div.sk-item::before, #sk-container-id-2 div.sk-parallel-item::before {content: \"\";position: absolute;border-left: 1px solid gray;box-sizing: border-box;top: 0;bottom: 0;left: 50%;z-index: -1;}#sk-container-id-2 div.sk-parallel-item {display: flex;flex-direction: column;z-index: 1;position: relative;background-color: white;}#sk-container-id-2 div.sk-parallel-item:first-child::after {align-self: flex-end;width: 50%;}#sk-container-id-2 div.sk-parallel-item:last-child::after {align-self: flex-start;width: 50%;}#sk-container-id-2 div.sk-parallel-item:only-child::after {width: 0;}#sk-container-id-2 div.sk-dashed-wrapped {border: 1px dashed gray;margin: 0 0.4em 0.5em 0.4em;box-sizing: border-box;padding-bottom: 0.4em;background-color: white;}#sk-container-id-2 div.sk-label label {font-family: monospace;font-weight: bold;display: inline-block;line-height: 1.2em;}#sk-container-id-2 div.sk-label-container {text-align: center;}#sk-container-id-2 div.sk-container {/* jupyter's `normalize.less` sets `[hidden] { display: none; }` but bootstrap.min.css set `[hidden] { display: none !important; }` so we also need the `!important` here to be able to override the default hidden behavior on the sphinx rendered scikit-learn.org. See: https://github.com/scikit-learn/scikit-learn/issues/21755 */display: inline-block !important;position: relative;}#sk-container-id-2 div.sk-text-repr-fallback {display: none;}</style><div id=\"sk-container-id-2\" class=\"sk-top-container\"><div class=\"sk-text-repr-fallback\"><pre>Pipeline(steps=[(&#x27;scaler&#x27;, StandardScaler()), (&#x27;label_encoder&#x27;, LabelEncoder()),\n",
       "                (&#x27;model&#x27;, GradientBoostingClassifier())])</pre><b>In a Jupyter environment, please rerun this cell to show the HTML representation or trust the notebook. <br />On GitHub, the HTML representation is unable to render, please try loading this page with nbviewer.org.</b></div><div class=\"sk-container\" hidden><div class=\"sk-item sk-dashed-wrapped\"><div class=\"sk-label-container\"><div class=\"sk-label sk-toggleable\"><input class=\"sk-toggleable__control sk-hidden--visually\" id=\"sk-estimator-id-2\" type=\"checkbox\" ><label for=\"sk-estimator-id-2\" class=\"sk-toggleable__label sk-toggleable__label-arrow\">Pipeline</label><div class=\"sk-toggleable__content\"><pre>Pipeline(steps=[(&#x27;scaler&#x27;, StandardScaler()), (&#x27;label_encoder&#x27;, LabelEncoder()),\n",
       "                (&#x27;model&#x27;, GradientBoostingClassifier())])</pre></div></div></div><div class=\"sk-serial\"><div class=\"sk-item\"><div class=\"sk-estimator sk-toggleable\"><input class=\"sk-toggleable__control sk-hidden--visually\" id=\"sk-estimator-id-3\" type=\"checkbox\" ><label for=\"sk-estimator-id-3\" class=\"sk-toggleable__label sk-toggleable__label-arrow\">StandardScaler</label><div class=\"sk-toggleable__content\"><pre>StandardScaler()</pre></div></div></div><div class=\"sk-item\"><div class=\"sk-estimator sk-toggleable\"><input class=\"sk-toggleable__control sk-hidden--visually\" id=\"sk-estimator-id-4\" type=\"checkbox\" ><label for=\"sk-estimator-id-4\" class=\"sk-toggleable__label sk-toggleable__label-arrow\">LabelEncoder</label><div class=\"sk-toggleable__content\"><pre>LabelEncoder()</pre></div></div></div><div class=\"sk-item\"><div class=\"sk-estimator sk-toggleable\"><input class=\"sk-toggleable__control sk-hidden--visually\" id=\"sk-estimator-id-5\" type=\"checkbox\" ><label for=\"sk-estimator-id-5\" class=\"sk-toggleable__label sk-toggleable__label-arrow\">GradientBoostingClassifier</label><div class=\"sk-toggleable__content\"><pre>GradientBoostingClassifier()</pre></div></div></div></div></div></div></div>"
      ],
      "text/plain": [
       "Pipeline(steps=[('scaler', StandardScaler()), ('label_encoder', LabelEncoder()),\n",
       "                ('model', GradientBoostingClassifier())])"
      ]
     },
     "execution_count": 64,
     "metadata": {},
     "output_type": "execute_result"
    }
   ],
   "source": [
    "pipeline"
   ]
  },
  {
   "cell_type": "code",
   "execution_count": 65,
   "metadata": {
    "id": "0h1ny-j-JbjM"
   },
   "outputs": [],
   "source": [
    "pipeline = Pipeline([\n",
    "    ('scaler', scaler),\n",
    "    ('label_encoder', label_encoder)\n",
    "])"
   ]
  },
  {
   "cell_type": "code",
   "execution_count": null,
   "metadata": {
    "id": "RXi7LqpyJkGq"
   },
   "outputs": [],
   "source": []
  },
  {
   "cell_type": "code",
   "execution_count": null,
   "metadata": {
    "id": "DkK_-VlGJkJz"
   },
   "outputs": [],
   "source": []
  },
  {
   "cell_type": "code",
   "execution_count": null,
   "metadata": {
    "id": "ga9G-pHrJkNq"
   },
   "outputs": [],
   "source": []
  },
  {
   "cell_type": "code",
   "execution_count": null,
   "metadata": {
    "id": "q9skmZQaJgJy"
   },
   "outputs": [],
   "source": []
  },
  {
   "cell_type": "code",
   "execution_count": null,
   "metadata": {
    "id": "FlUgQurHJgOV"
   },
   "outputs": [],
   "source": []
  },
  {
   "cell_type": "code",
   "execution_count": 66,
   "metadata": {
    "id": "XFrfCoR3IbVj"
   },
   "outputs": [],
   "source": [
    "# x_train = pd.DataFrame(x_train)\n",
    "# y_train = pd.DataFrame(y_train)"
   ]
  },
  {
   "cell_type": "code",
   "execution_count": 67,
   "metadata": {
    "colab": {
     "base_uri": "https://localhost:8080/",
     "height": 858
    },
    "id": "kRDC3FxX9w6E",
    "outputId": "9a5d5855-60dd-43a1-f62f-95e48be4178d"
   },
   "outputs": [],
   "source": [
    "# # Step 6: Fit the pipeline on the training data\n",
    "# pipeline.fit(x_train, y_train)"
   ]
  },
  {
   "cell_type": "code",
   "execution_count": null,
   "metadata": {
    "id": "rDFchaVb9xCC"
   },
   "outputs": [],
   "source": []
  },
  {
   "cell_type": "code",
   "execution_count": null,
   "metadata": {
    "id": "YnWk0CvgsmgH"
   },
   "outputs": [],
   "source": []
  },
  {
   "cell_type": "code",
   "execution_count": null,
   "metadata": {
    "id": "Gk3_Nvd00NEO"
   },
   "outputs": [],
   "source": []
  }
 ],
 "metadata": {
  "colab": {
   "provenance": []
  },
  "kernelspec": {
   "display_name": "Python 3 (ipykernel)",
   "language": "python",
   "name": "python3"
  },
  "language_info": {
   "codemirror_mode": {
    "name": "ipython",
    "version": 3
   },
   "file_extension": ".py",
   "mimetype": "text/x-python",
   "name": "python",
   "nbconvert_exporter": "python",
   "pygments_lexer": "ipython3",
   "version": "3.9.13"
  }
 },
 "nbformat": 4,
 "nbformat_minor": 1
}
